{
 "cells": [
  {
   "cell_type": "code",
   "execution_count": 28,
   "metadata": {},
   "outputs": [],
   "source": [
    "import pandas as pd\n",
    "import random\n",
    "import seaborn as sns"
   ]
  },
  {
   "cell_type": "markdown",
   "metadata": {},
   "source": [
    "# Simulating a basketball player with \"Hot hands\"\n",
    "\n",
    "* This player has 40% success chance for scoring a goal for the first trial.\n",
    "* If he makes it at a trial, he has 70% of chance for scoring a goal for the next trial\n",
    "* This would make him have 56% chance on average of scoring a goal in total"
   ]
  },
  {
   "cell_type": "code",
   "execution_count": 2,
   "metadata": {},
   "outputs": [],
   "source": [
    "def hot_hand_player():\n",
    "    shoot_history=[]\n",
    "    outcomes=[\"S\",\"F\"] # \"S\" stands for success and \"F\" stands for Failure\n",
    "    \n",
    "    # 1st trial\n",
    "    result = random.choices(outcomes,weights=[40,60], k=1) # 'k' means the number of trials. the type of 'result' is list\n",
    "    result = result[0] # Now result is either of \"S\" or \"F\"\n",
    "    number = 1 \n",
    "    shoot_history.append(result) # Adding the result of shooting to a 'shoot history' list\n",
    "    number+=1 # moving on to the next shooting\n",
    "    \n",
    "    # 2nd trial and so on\n",
    "    while number <= 10000:  # let's do shootings for 10,000 times\n",
    "        if result == 'S':   # if the shooter scores the goal for the previous trial\n",
    "            result = random.choices(outcomes,weights=[70,30], k=1)    # the success rate increases up to 70%\n",
    "        else:\n",
    "            result = random.choices(outcomes,weights=[40,60], k=1)   # otherwise, if he fails for making it, the success rate stays at 40%\n",
    "        result = result[0]    \n",
    "        shoot_history.append(result)    \n",
    "        \n",
    "        if number%1000 == 0:\n",
    "            print('Now', number,' trials have been done')\n",
    "        number+=1\n",
    "    series_history=pd.Series(shoot_history)\n",
    "    return series_history"
   ]
  },
  {
   "cell_type": "code",
   "execution_count": 12,
   "metadata": {
    "scrolled": false
   },
   "outputs": [
    {
     "name": "stdout",
     "output_type": "stream",
     "text": [
      "Now 1000  trials have been done\n",
      "Now 2000  trials have been done\n",
      "Now 3000  trials have been done\n",
      "Now 4000  trials have been done\n",
      "Now 5000  trials have been done\n",
      "Now 6000  trials have been done\n",
      "Now 7000  trials have been done\n",
      "Now 8000  trials have been done\n",
      "Now 9000  trials have been done\n",
      "Now 10000  trials have been done\n"
     ]
    }
   ],
   "source": [
    "series_hot_hand=hot_hand_player()"
   ]
  },
  {
   "cell_type": "code",
   "execution_count": 4,
   "metadata": {
    "scrolled": true
   },
   "outputs": [
    {
     "data": {
      "text/plain": [
       "S    5792\n",
       "F    4208\n",
       "dtype: int64"
      ]
     },
     "execution_count": 4,
     "metadata": {},
     "output_type": "execute_result"
    }
   ],
   "source": [
    "series_hot_hand.value_counts() \n",
    "# checking how many success and failures the player has done\n",
    "# as you can see below, the success is at the neighborhood of 56%"
   ]
  },
  {
   "cell_type": "markdown",
   "metadata": {},
   "source": [
    "# Simulating a basketball player with independent probability\n",
    "* This player has 56% success chance for scoring a goal for every trial.\n",
    "* Shooting trials are independent of each other, which means the shooter does not get affected by the previous trial."
   ]
  },
  {
   "cell_type": "code",
   "execution_count": 21,
   "metadata": {},
   "outputs": [],
   "source": [
    "def independent_player():\n",
    "    outcomes=[\"S\",\"F\"]\n",
    "    result = random.choices(outcomes,weights=[56,44],k=10000) \n",
    "    result=pd.Series(result)\n",
    "    return result"
   ]
  },
  {
   "cell_type": "code",
   "execution_count": 22,
   "metadata": {},
   "outputs": [
    {
     "data": {
      "text/plain": [
       "S    5644\n",
       "F    4356\n",
       "dtype: int64"
      ]
     },
     "execution_count": 22,
     "metadata": {},
     "output_type": "execute_result"
    }
   ],
   "source": [
    "series_cold_hand=independent_player().value_counts()\n",
    "series_cold_hand"
   ]
  },
  {
   "cell_type": "markdown",
   "metadata": {},
   "source": [
    "# Let's calculate the streaks of each player\n",
    "* 'streak' means a series of successful shots \n",
    "* If two players have different probability distributions, the streaks will be different as well  "
   ]
  },
  {
   "cell_type": "code",
   "execution_count": 15,
   "metadata": {},
   "outputs": [],
   "source": [
    "def calc_streak(x): # the argument x here is a series of shooting history, \"S\" and \"F\".\n",
    "    streak_length=0 # how long the streak is\n",
    "    number=0        # number in series : which trial of shooting are we talking about?  \n",
    "    streak_list=[]  # recording the length of streaks in this list          \n",
    "    \n",
    "    while number < len(x)-1:  # since we compare nth and (n+1)th shooting, n should not be bigger than len(x)-1\n",
    "        if x[number]== \"S\":   \n",
    "            streak_length = streak_length+1\n",
    "            number+=1\n",
    "            if number < len(x)-1:\n",
    "                while (x[number]==x[number+1]): # if the two trials in a series are both successful, streak_length gets one bigger\n",
    "                    streak_length+=1\n",
    "                    number+=1\n",
    "                    if number >= len(x)-1:  # another safe net for the index number not to get out of range\n",
    "                        break\n",
    "            streak_list.append(streak_length+1)     # recording the streak number to the list\n",
    "            number+=1 # moving on to the next shooting in the series of shooting history\n",
    "        else:\n",
    "            number+=1 # if the shooting turns out to be failure, it does not affect streak at all\n",
    "            streak_length=0   # initializing the streak_length\n",
    "    return streak_list"
   ]
  },
  {
   "cell_type": "code",
   "execution_count": 17,
   "metadata": {
    "collapsed": true
   },
   "outputs": [
    {
     "data": {
      "text/plain": [
       "0        2\n",
       "1        2\n",
       "2        4\n",
       "3        4\n",
       "4        5\n",
       "5        5\n",
       "6        4\n",
       "7       10\n",
       "8        6\n",
       "9        7\n",
       "10       4\n",
       "11       3\n",
       "12       5\n",
       "13       6\n",
       "14       4\n",
       "15       3\n",
       "16      13\n",
       "17       4\n",
       "18       8\n",
       "19       6\n",
       "20       4\n",
       "21      15\n",
       "22       2\n",
       "23       4\n",
       "24       2\n",
       "25      13\n",
       "26      16\n",
       "27       3\n",
       "28       2\n",
       "29       2\n",
       "        ..\n",
       "1711     8\n",
       "1712     6\n",
       "1713     3\n",
       "1714     3\n",
       "1715     2\n",
       "1716     4\n",
       "1717     2\n",
       "1718     4\n",
       "1719     5\n",
       "1720     7\n",
       "1721     4\n",
       "1722     5\n",
       "1723     9\n",
       "1724     4\n",
       "1725     5\n",
       "1726     4\n",
       "1727     5\n",
       "1728    14\n",
       "1729     4\n",
       "1730     8\n",
       "1731    16\n",
       "1732     6\n",
       "1733     7\n",
       "1734     3\n",
       "1735     4\n",
       "1736     6\n",
       "1737     2\n",
       "1738     3\n",
       "1739     3\n",
       "1740     2\n",
       "Length: 1741, dtype: int64"
      ]
     },
     "execution_count": 17,
     "metadata": {},
     "output_type": "execute_result"
    }
   ],
   "source": [
    "# streak of the hot hand player\n",
    "hot_hand_streak=pd.Series(calc_streak(series_hot_hand))\n",
    "hot_hand_streak"
   ]
  },
  {
   "cell_type": "code",
   "execution_count": 18,
   "metadata": {
    "collapsed": true
   },
   "outputs": [
    {
     "data": {
      "text/plain": [
       "2     402\n",
       "3     321\n",
       "4     225\n",
       "5     222\n",
       "6     134\n",
       "7     106\n",
       "9      70\n",
       "8      69\n",
       "10     49\n",
       "11     38\n",
       "13     25\n",
       "14     23\n",
       "12     21\n",
       "17     10\n",
       "18      6\n",
       "15      5\n",
       "16      3\n",
       "19      3\n",
       "20      3\n",
       "27      1\n",
       "21      1\n",
       "22      1\n",
       "23      1\n",
       "24      1\n",
       "32      1\n",
       "dtype: int64"
      ]
     },
     "execution_count": 18,
     "metadata": {},
     "output_type": "execute_result"
    }
   ],
   "source": [
    "hot_hand_values=hot_hand_streak.value_counts()\n",
    "hot_hand_values"
   ]
  },
  {
   "cell_type": "code",
   "execution_count": 25,
   "metadata": {
    "collapsed": true
   },
   "outputs": [
    {
     "data": {
      "text/plain": [
       "0        2\n",
       "1        2\n",
       "2        5\n",
       "3        2\n",
       "4        3\n",
       "5        6\n",
       "6        7\n",
       "7       11\n",
       "8        2\n",
       "9        3\n",
       "10       5\n",
       "11       2\n",
       "12       2\n",
       "13       4\n",
       "14       2\n",
       "15       7\n",
       "16       2\n",
       "17       2\n",
       "18       3\n",
       "19       4\n",
       "20       7\n",
       "21       2\n",
       "22       6\n",
       "23       7\n",
       "24       2\n",
       "25       3\n",
       "26       3\n",
       "27       5\n",
       "28       4\n",
       "29       2\n",
       "        ..\n",
       "2453     2\n",
       "2454     2\n",
       "2455     3\n",
       "2456     4\n",
       "2457     2\n",
       "2458     3\n",
       "2459     4\n",
       "2460     2\n",
       "2461     5\n",
       "2462     2\n",
       "2463     4\n",
       "2464     9\n",
       "2465     2\n",
       "2466     3\n",
       "2467     2\n",
       "2468     2\n",
       "2469     2\n",
       "2470     2\n",
       "2471     3\n",
       "2472     2\n",
       "2473     3\n",
       "2474     6\n",
       "2475     8\n",
       "2476     2\n",
       "2477     2\n",
       "2478     6\n",
       "2479     4\n",
       "2480     2\n",
       "2481     5\n",
       "2482     4\n",
       "Length: 2483, dtype: int64"
      ]
     },
     "execution_count": 25,
     "metadata": {},
     "output_type": "execute_result"
    }
   ],
   "source": [
    "# streak of the cold hand player\n",
    "cold_hand_streak=pd.Series(calc_streak(independent_player()))\n",
    "cold_hand_streak"
   ]
  },
  {
   "cell_type": "code",
   "execution_count": 26,
   "metadata": {
    "collapsed": true
   },
   "outputs": [
    {
     "data": {
      "text/plain": [
       "2     655\n",
       "3     514\n",
       "4     367\n",
       "5     277\n",
       "6     172\n",
       "7     153\n",
       "8      99\n",
       "9      76\n",
       "10     58\n",
       "11     45\n",
       "12     26\n",
       "13     15\n",
       "14      8\n",
       "15      5\n",
       "17      3\n",
       "18      3\n",
       "16      3\n",
       "20      2\n",
       "22      1\n",
       "27      1\n",
       "dtype: int64"
      ]
     },
     "execution_count": 26,
     "metadata": {},
     "output_type": "execute_result"
    }
   ],
   "source": [
    "cold_hand_values=cold_hand_streak.value_counts()\n",
    "cold_hand_values"
   ]
  },
  {
   "cell_type": "markdown",
   "metadata": {},
   "source": [
    "# streak description of both players\n",
    "* numerical descriptions and barplots of both players' streak"
   ]
  },
  {
   "cell_type": "code",
   "execution_count": 27,
   "metadata": {
    "scrolled": true
   },
   "outputs": [
    {
     "data": {
      "text/plain": [
       "count     25.000000\n",
       "mean      69.640000\n",
       "std      109.506042\n",
       "min        1.000000\n",
       "25%        3.000000\n",
       "50%       21.000000\n",
       "75%       70.000000\n",
       "max      402.000000\n",
       "dtype: float64"
      ]
     },
     "execution_count": 27,
     "metadata": {},
     "output_type": "execute_result"
    }
   ],
   "source": [
    "hot_hand_values.describe()"
   ]
  },
  {
   "cell_type": "code",
   "execution_count": 29,
   "metadata": {},
   "outputs": [
    {
     "data": {
      "text/html": [
       "<div>\n",
       "<style scoped>\n",
       "    .dataframe tbody tr th:only-of-type {\n",
       "        vertical-align: middle;\n",
       "    }\n",
       "\n",
       "    .dataframe tbody tr th {\n",
       "        vertical-align: top;\n",
       "    }\n",
       "\n",
       "    .dataframe thead th {\n",
       "        text-align: right;\n",
       "    }\n",
       "</style>\n",
       "<table border=\"1\" class=\"dataframe\">\n",
       "  <thead>\n",
       "    <tr style=\"text-align: right;\">\n",
       "      <th></th>\n",
       "      <th>2</th>\n",
       "      <th>3</th>\n",
       "      <th>4</th>\n",
       "      <th>5</th>\n",
       "      <th>6</th>\n",
       "      <th>7</th>\n",
       "      <th>9</th>\n",
       "      <th>8</th>\n",
       "      <th>10</th>\n",
       "      <th>11</th>\n",
       "      <th>...</th>\n",
       "      <th>15</th>\n",
       "      <th>16</th>\n",
       "      <th>19</th>\n",
       "      <th>20</th>\n",
       "      <th>27</th>\n",
       "      <th>21</th>\n",
       "      <th>22</th>\n",
       "      <th>23</th>\n",
       "      <th>24</th>\n",
       "      <th>32</th>\n",
       "    </tr>\n",
       "  </thead>\n",
       "  <tbody>\n",
       "    <tr>\n",
       "      <th>0</th>\n",
       "      <td>402</td>\n",
       "      <td>321</td>\n",
       "      <td>225</td>\n",
       "      <td>222</td>\n",
       "      <td>134</td>\n",
       "      <td>106</td>\n",
       "      <td>70</td>\n",
       "      <td>69</td>\n",
       "      <td>49</td>\n",
       "      <td>38</td>\n",
       "      <td>...</td>\n",
       "      <td>5</td>\n",
       "      <td>3</td>\n",
       "      <td>3</td>\n",
       "      <td>3</td>\n",
       "      <td>1</td>\n",
       "      <td>1</td>\n",
       "      <td>1</td>\n",
       "      <td>1</td>\n",
       "      <td>1</td>\n",
       "      <td>1</td>\n",
       "    </tr>\n",
       "  </tbody>\n",
       "</table>\n",
       "<p>1 rows × 25 columns</p>\n",
       "</div>"
      ],
      "text/plain": [
       "    2    3    4    5    6    7   9   8   10  11 ...  15  16  19  20  27  21  \\\n",
       "0  402  321  225  222  134  106  70  69  49  38 ...   5   3   3   3   1   1   \n",
       "\n",
       "   22  23  24  32  \n",
       "0   1   1   1   1  \n",
       "\n",
       "[1 rows x 25 columns]"
      ]
     },
     "execution_count": 29,
     "metadata": {},
     "output_type": "execute_result"
    }
   ],
   "source": [
    "# Transposing the dataframe of shooting history\n",
    "hot_hand_df=pd.DataFrame(hot_hand_values)\n",
    "hot_hand_transposed=hot_hand_df.T\n",
    "hot_hand_transposed"
   ]
  },
  {
   "cell_type": "code",
   "execution_count": 31,
   "metadata": {},
   "outputs": [
    {
     "data": {
      "image/png": "[encoded data removed]",
      "text/plain": [
       "<Figure size 432x288 with 1 Axes>"
      ]
     },
     "metadata": {},
     "output_type": "display_data"
    }
   ],
   "source": [
    "# Graphing a barplot of hot hand player\n",
    "sns.set(style=\"whitegrid\")\n",
    "ax=sns.barplot(data=hot_hand_transposed)"
   ]
  },
  {
   "cell_type": "code",
   "execution_count": 32,
   "metadata": {
    "scrolled": true
   },
   "outputs": [
    {
     "data": {
      "text/plain": [
       "count     20.000000\n",
       "mean     124.150000\n",
       "std      187.974879\n",
       "min        1.000000\n",
       "25%        3.000000\n",
       "50%       35.500000\n",
       "75%      157.750000\n",
       "max      655.000000\n",
       "dtype: float64"
      ]
     },
     "execution_count": 32,
     "metadata": {},
     "output_type": "execute_result"
    }
   ],
   "source": [
    "cold_hand_values.describe()"
   ]
  },
  {
   "cell_type": "code",
   "execution_count": 33,
   "metadata": {},
   "outputs": [
    {
     "data": {
      "text/html": [
       "<div>\n",
       "<style scoped>\n",
       "    .dataframe tbody tr th:only-of-type {\n",
       "        vertical-align: middle;\n",
       "    }\n",
       "\n",
       "    .dataframe tbody tr th {\n",
       "        vertical-align: top;\n",
       "    }\n",
       "\n",
       "    .dataframe thead th {\n",
       "        text-align: right;\n",
       "    }\n",
       "</style>\n",
       "<table border=\"1\" class=\"dataframe\">\n",
       "  <thead>\n",
       "    <tr style=\"text-align: right;\">\n",
       "      <th></th>\n",
       "      <th>2</th>\n",
       "      <th>3</th>\n",
       "      <th>4</th>\n",
       "      <th>5</th>\n",
       "      <th>6</th>\n",
       "      <th>7</th>\n",
       "      <th>8</th>\n",
       "      <th>9</th>\n",
       "      <th>10</th>\n",
       "      <th>11</th>\n",
       "      <th>12</th>\n",
       "      <th>13</th>\n",
       "      <th>14</th>\n",
       "      <th>15</th>\n",
       "      <th>17</th>\n",
       "      <th>18</th>\n",
       "      <th>16</th>\n",
       "      <th>20</th>\n",
       "      <th>22</th>\n",
       "      <th>27</th>\n",
       "    </tr>\n",
       "  </thead>\n",
       "  <tbody>\n",
       "    <tr>\n",
       "      <th>0</th>\n",
       "      <td>655</td>\n",
       "      <td>514</td>\n",
       "      <td>367</td>\n",
       "      <td>277</td>\n",
       "      <td>172</td>\n",
       "      <td>153</td>\n",
       "      <td>99</td>\n",
       "      <td>76</td>\n",
       "      <td>58</td>\n",
       "      <td>45</td>\n",
       "      <td>26</td>\n",
       "      <td>15</td>\n",
       "      <td>8</td>\n",
       "      <td>5</td>\n",
       "      <td>3</td>\n",
       "      <td>3</td>\n",
       "      <td>3</td>\n",
       "      <td>2</td>\n",
       "      <td>1</td>\n",
       "      <td>1</td>\n",
       "    </tr>\n",
       "  </tbody>\n",
       "</table>\n",
       "</div>"
      ],
      "text/plain": [
       "    2    3    4    5    6    7   8   9   10  11  12  13  14  15  17  18  16  \\\n",
       "0  655  514  367  277  172  153  99  76  58  45  26  15   8   5   3   3   3   \n",
       "\n",
       "   20  22  27  \n",
       "0   2   1   1  "
      ]
     },
     "execution_count": 33,
     "metadata": {},
     "output_type": "execute_result"
    }
   ],
   "source": [
    "# Transposing the dataframe of shooting history\n",
    "cold_hand_df=pd.DataFrame(cold_hand_values)\n",
    "cold_hand_transposed=cold_hand_df.T\n",
    "cold_hand_transposed"
   ]
  },
  {
   "cell_type": "code",
   "execution_count": 34,
   "metadata": {},
   "outputs": [
    {
     "data": {
      "image/png": "[encoded data removed]",
      "text/plain": [
       "<Figure size 432x288 with 1 Axes>"
      ]
     },
     "metadata": {},
     "output_type": "display_data"
    }
   ],
   "source": [
    "# Graphing a barplot of cold hand player\n",
    "sns.set(style=\"whitegrid\")\n",
    "ax=sns.barplot(data=cold_hand_transposed)"
   ]
  },
  {
   "cell_type": "markdown",
   "metadata": {},
   "source": [
    "# Conclusion : Hot-hand player tends to have the longer streak\n",
    "* Even though the two players, the hot-hand player and the cold-hand player has the same shooting success chance on average, the hot-hand player tends to have the longer streak than the cold-hand player.\n",
    "* It is because the hot-hand player gets bigger chance when the previous shooting attempt is successful.\n",
    "* However, the hot-hand player has much lower number of streaks in general (eg. the hot-hand player has 402 twolength long streaks while the cold-hand player has 655 two-length long streaks"
   ]
  }
 ],
 "metadata": {
  "kernelspec": {
   "display_name": "Python 3",
   "language": "python",
   "name": "python3"
  },
  "language_info": {
   "codemirror_mode": {
    "name": "ipython",
    "version": 3
   },
   "file_extension": ".py",
   "mimetype": "text/x-python",
   "name": "python",
   "nbconvert_exporter": "python",
   "pygments_lexer": "ipython3",
   "version": "3.6.5"
  }
 },
 "nbformat": 4,
 "nbformat_minor": 2
}
