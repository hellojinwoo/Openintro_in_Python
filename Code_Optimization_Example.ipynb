{
  "nbformat": 4,
  "nbformat_minor": 0,
  "metadata": {
    "kernelspec": {
      "display_name": "Python 3",
      "language": "python",
      "name": "python3"
    },
    "language_info": {
      "name": "python",
      "version": "3.8.5",
      "mimetype": "text/x-python",
      "codemirror_mode": {
        "name": "ipython",
        "version": 3
      },
      "pygments_lexer": "ipython3",
      "nbconvert_exporter": "python",
      "file_extension": ".py"
    },
    "colab": {
      "name": "Code_Optimization_Example.ipynb",
      "provenance": [],
      "collapsed_sections": [],
      "include_colab_link": true
    }
  },
  "cells": [
    {
      "cell_type": "markdown",
      "metadata": {
        "id": "view-in-github",
        "colab_type": "text"
      },
      "source": [
        "<a href=\"https://colab.research.google.com/github/hellojinwoo/Openintro_in_Python/blob/master/Code_Optimization_Example.ipynb\" target=\"_parent\"><img src=\"https://colab.research.google.com/assets/colab-badge.svg\" alt=\"Open In Colab\"/></a>"
      ]
    },
    {
      "cell_type": "markdown",
      "metadata": {
        "id": "ZaNqePKd-d7K"
      },
      "source": [
        "# Understanding Backtesting Algorithm through a Simple Example \n",
        "- __Author__: 박진우\n",
        "- __Current Version__: 3.0\n",
        "- __작성목적__: Mean reversion 방식으로 Futures Calendar Spread Trading을 백테스팅 할 때, 속도를 최대한 줄이기 위해 looping을 사용치 않는 방향으로 이 코드를 작성함.\n",
        "- __비고__:\n",
        "    - 1. 본 예제에 목적에 충실하기 위해 트레인 데이터/벨리데이션 데이터를 나누지 않음 \n",
        "    - 2. 구글코랩에서 지금 버전까지 오기 위해 정운님과 나눈 커멘트 내역을 살펴보면 어떻게 발전하였는지 더 자세히 알 수 있음 \n",
        "\n",
        "### Table of Contents\n",
        "\n",
        "- [__Step 01. Loading raw data__](#Step-01.-Loading-raw-data)\n",
        "- [__Step 02. Contango Scenario__](#Step-02.-Contango-Scenario)\n",
        "- [__Step 03. Back-wardation Scenario__](#Step-03.-Back-wardation-Scenario)\n",
        "- [__Step 04. Both Scenarios Considered__](#Step-04.-Both-Scenarios-Considered)"
      ]
    },
    {
      "cell_type": "code",
      "metadata": {
        "id": "x3sx3C82-d7S",
        "trusted": true
      },
      "source": [
        "# 라이브러리 임포팅하기\n",
        "import pandas as pd\n",
        "import numpy as np\n",
        "from datetime import datetime\n",
        "import matplotlib.pyplot as plt\n",
        "import copy\n",
        "\n",
        "# 파이썬 경고 끄기\n",
        "import warnings\n",
        "warnings.filterwarnings(action='ignore')"
      ],
      "execution_count": null,
      "outputs": []
    },
    {
      "cell_type": "markdown",
      "metadata": {
        "id": "jEDDv9-_-d7W"
      },
      "source": [
        "__hyper-parameter setting__"
      ]
    },
    {
      "cell_type": "code",
      "metadata": {
        "id": "UXT8aTLF-d7X",
        "trusted": true
      },
      "source": [
        "# 1) trading fee\n",
        "trading_fee = 0.001\n",
        "\n",
        "# OKEX의 제 1종 코인(BTC,ETH 등)관련 분기별 선물은 이미 시장에 있는 호가를 Take할 때 거래액의 0.05%를 수수료 지불함. \n",
        "# 포지션 들어갈 때 Long position, Short position 각각 1번, 팔 때도 동일하게 각각 1번이므로, 총 4번 거래가 이루어짐. 그래서 전체금액의 0.05% * 4 = 전체금액의 0.2% 가 trading fee\n",
        "# 하지만 현재 우리 코드상에서는 trading_fee = 0.1% 로 처리해야 하는데 이는 스프레드를 계산할 때, 전체금액으로 (Far+Near)를 사용하고 있기 때문이다. \n",
        "# 예시)\n",
        "# Far 70 Near 60 → Far 65 Near 65 를 생각해보면\n",
        "# 수익금: (70-65) + (-(60-65)) - trading_fee = 5+5 - (70+60+65+65) * 0.05% = 10 - 0.13 = 9.87\n",
        "# 수익률 = 9.87/130 = 0.0759 = 7.59%\n",
        "#       = (70-60)/(70+60) - (70+60+65+65)*0.0005/(70+60) = 10/130 - 0.13/130 = 0.0769 - 0.001 = 0.0759\n",
        "# Assumption: position_in & position_out 할 때 Long position + Short position 거래액의 합이 변하지 않는다\n",
        "# Source: https://www.okex.com/fees.html"
      ],
      "execution_count": null,
      "outputs": []
    },
    {
      "cell_type": "markdown",
      "metadata": {
        "id": "qBDnQbgn-d7Z"
      },
      "source": [
        "## __Step 01. Loading raw data__\n",
        "- 스프레드 데이터 로드 및 이해하기"
      ]
    },
    {
      "cell_type": "code",
      "metadata": {
        "id": "XaBuNJN_-ikt"
      },
      "source": [
        "# 드라이브에 접근할 수 있도록 아래 코드 입력\r\n",
        "# 출처: http://growthj.link/python-%EA%B5%AC%EA%B8%80-colab%EC%9C%BC%EB%A1%9C-pd-read_csv-%ED%99%9C%EC%9A%A9%ED%95%98%EB%8A%94-%EB%B0%A9%EB%B2%95/\r\n",
        "from google.colab import drive\r\n",
        "# drive.mount('/content/drive')\r\n",
        "drive.mount('/content/drive')\r\n",
        "raw_data_df = pd.read_csv(\"/content/drive/MyDrive/quant/falcon/Sliding window/raw_data.csv\", index_col=0)"
      ],
      "execution_count": null,
      "outputs": []
    },
    {
      "cell_type": "code",
      "metadata": {
        "id": "t2an6pKE-d7a",
        "trusted": true,
        "outputId": "8d0b3999-367d-4a1d-8d84-bda313c120e6"
      },
      "source": [
        "raw_data_df = pd.read_csv(\"new_raw_data.csv\", index_col=0)\n",
        "print(f\"raw_data_df.shape: {raw_data_df.shape}\")\n",
        "print(\"-\" * 50)\n",
        "print(f\"데이터 기간: {raw_data_df.index[0]} ~ {raw_data_df.index[-1]}\")\n",
        "print(\"-\" * 50)\n",
        "print(\"   raw_data_df.head(3)    \")\n",
        "display(raw_data_df.head(3))"
      ],
      "execution_count": null,
      "outputs": [
        {
          "output_type": "stream",
          "text": [
            "raw_data_df.shape: (3000, 1)\n",
            "\n",
            "--------------------------------------------------\n",
            "\n",
            "데이터 기간: 2018-05-29 13:00:00 ~ 2018-10-04 01:00:00\n",
            "\n",
            "--------------------------------------------------\n",
            "\n",
            "   raw_data_df.head(3)    \n"
          ],
          "name": "stdout"
        },
        {
          "output_type": "display_data",
          "data": {
            "text/plain": [
              "                       spread\n",
              "2018-05-29 13:00:00  0.004526\n",
              "2018-05-29 14:00:00  0.002701\n",
              "2018-05-29 15:00:00  0.004159"
            ],
            "text/html": [
              "<div>\n",
              "<style scoped>\n",
              "    .dataframe tbody tr th:only-of-type {\n",
              "        vertical-align: middle;\n",
              "    }\n",
              "\n",
              "    .dataframe tbody tr th {\n",
              "        vertical-align: top;\n",
              "    }\n",
              "\n",
              "    .dataframe thead th {\n",
              "        text-align: right;\n",
              "    }\n",
              "</style>\n",
              "<table border=\"1\" class=\"dataframe\">\n",
              "  <thead>\n",
              "    <tr style=\"text-align: right;\">\n",
              "      <th></th>\n",
              "      <th>spread</th>\n",
              "    </tr>\n",
              "  </thead>\n",
              "  <tbody>\n",
              "    <tr>\n",
              "      <th>2018-05-29 13:00:00</th>\n",
              "      <td>0.004526</td>\n",
              "    </tr>\n",
              "    <tr>\n",
              "      <th>2018-05-29 14:00:00</th>\n",
              "      <td>0.002701</td>\n",
              "    </tr>\n",
              "    <tr>\n",
              "      <th>2018-05-29 15:00:00</th>\n",
              "      <td>0.004159</td>\n",
              "    </tr>\n",
              "  </tbody>\n",
              "</table>\n",
              "</div>"
            ]
          },
          "metadata": {
            "tags": []
          }
        }
      ]
    },
    {
      "cell_type": "code",
      "metadata": {
        "id": "sgl_9UjO-d7c",
        "trusted": true,
        "outputId": "3d2baf5b-c053-4025-9241-76688a5da5ab"
      },
      "source": [
        "# 데이터프레임의 인덱스가 단순히 string인지, datetime.datetime인지 확인\n",
        "type(raw_data_df.index[0])"
      ],
      "execution_count": null,
      "outputs": [
        {
          "output_type": "execute_result",
          "data": {
            "text/plain": [
              "str"
            ]
          },
          "metadata": {
            "tags": []
          },
          "execution_count": 50
        }
      ]
    },
    {
      "cell_type": "code",
      "metadata": {
        "id": "5G4ZLHl--d7e",
        "trusted": true
      },
      "source": [
        "# str이므로 datetime으로 변경\n",
        "raw_data_df.index = pd.to_datetime(raw_data_df.index)"
      ],
      "execution_count": null,
      "outputs": []
    },
    {
      "cell_type": "code",
      "metadata": {
        "id": "B0oeD8I2-d7e",
        "trusted": true,
        "outputId": "574041e9-e88b-43aa-c854-bfdda5be1120"
      },
      "source": [
        "ax = raw_data_df.plot(figsize = (12,4), title = 'The Spread between Near Futures and Far Futures')\n",
        "\n",
        "# x_axis, y_axis에 제목 표시하기\n",
        "ax.set_ylabel('Spread (%)');\n",
        "ax.set_xlabel('Time');\n",
        "\n",
        "# horizontal line으로 mean표시하기\n",
        "ax.axhline(raw_data_df.loc[:,'spread'].mean(), color='k', linestyle='dashed', linewidth=1)\n",
        "\n",
        "# help source: https://stackoverflow.com/a/52961228/8846998\n",
        "min_ylim, max_ylim = ax.get_ylim()\n",
        "ylim_diff = (max_ylim - min_ylim)\n",
        "min_xlim, max_xlim = ax.get_xlim()\n",
        "xlim_diff = (max_xlim - min_xlim)\n",
        "ax.text((min_xlim + xlim_diff*0.01), (min_ylim + ylim_diff * 0.5), f\"Mean: {raw_data_df.loc[:,'spread'].mean():.4f}\", fontsize=12); "
      ],
      "execution_count": null,
      "outputs": [
        {
          "output_type": "display_data",
          "data": {
            "text/plain": [
              "<Figure size 864x288 with 1 Axes>"
            ],
            "image/png": "[encoded data removed]"
          },
          "metadata": {
            "tags": [],
            "needs_background": "light"
          }
        }
      ]
    },
    {
      "cell_type": "code",
      "metadata": {
        "id": "lQHVeovr-d7i",
        "trusted": true,
        "outputId": "d8460ab7-e2fc-4334-88eb-06029ad4d077"
      },
      "source": [
        "mean_df = raw_data_df.loc[:,'spread'].mean()\n",
        "std_df = raw_data_df.loc[:,'spread'].std()\n",
        "\n",
        "print(f\"Spread 평균: {raw_data_df.loc[:,'spread'].mean():.4f}, 표준편차: {raw_data_df.loc[:,'spread'].std():.4f}\")"
      ],
      "execution_count": null,
      "outputs": [
        {
          "output_type": "stream",
          "text": [
            "Spread 평균: 0.0006, 표준편차: 0.0023\n"
          ],
          "name": "stdout"
        }
      ]
    },
    {
      "cell_type": "markdown",
      "metadata": {
        "id": "S8jj2DUo-d7l"
      },
      "source": [
        "## __Step 02. Contango Scenario__\n",
        "- 콘탱고 상황에서 수익파악하기"
      ]
    },
    {
      "cell_type": "markdown",
      "metadata": {
        "id": "kRxzc0dO-d7m"
      },
      "source": [
        "__1. 포지션 진입 구간, 포지션 청산 구간 파악하기__"
      ]
    },
    {
      "cell_type": "code",
      "metadata": {
        "id": "cmmzKPRn-d7m",
        "trusted": true,
        "outputId": "598b870d-4648-4618-fb11-6230662a2b72"
      },
      "source": [
        "# buy_threshold, sell_threshold에 따라서 action (buy, sell) 정하기\n",
        "# 코드 도움: https://stackoverflow.com/a/39111919/8846998\n",
        "\n",
        "# 원본 데이터 보존을 위해 deepcopy하기\n",
        "con_df = copy.deepcopy(raw_data_df) # con_df = contango_df\n",
        "\n",
        "k = 1  #std에 몇배를 해서 mean과 더할지 결정하는 상수. 예시에서는 k=1 활용\n",
        "\n",
        "col         = 'spread'\n",
        "conditions  = [con_df.loc[:,col] >= mean_df+(k*std_df), # mean+std값보다 스프레드가 커질 시, 콘탱고 과열되었다고 판단 --> 포지션 진입 구간\n",
        "               con_df.loc[:,col] <= mean_df] # 스프레드 평균(mean)보다 같거나 작을시 시장 정상화라고 판단 --> 포지션 청산 구간 \n",
        " \n",
        "choices     = [\"buy\", \"sell\"]\n",
        "    \n",
        "con_df.loc[:,\"action\"] = np.select(conditions, choices, default=np.nan)\n",
        "display(con_df.head(3))\n",
        "print(f\"contango_df.shape: {con_df.shape}\")"
      ],
      "execution_count": null,
      "outputs": [
        {
          "output_type": "display_data",
          "data": {
            "text/plain": [
              "                       spread action\n",
              "2018-05-29 13:00:00  0.004526    buy\n",
              "2018-05-29 14:00:00  0.002701    nan\n",
              "2018-05-29 15:00:00  0.004159    buy"
            ],
            "text/html": [
              "<div>\n",
              "<style scoped>\n",
              "    .dataframe tbody tr th:only-of-type {\n",
              "        vertical-align: middle;\n",
              "    }\n",
              "\n",
              "    .dataframe tbody tr th {\n",
              "        vertical-align: top;\n",
              "    }\n",
              "\n",
              "    .dataframe thead th {\n",
              "        text-align: right;\n",
              "    }\n",
              "</style>\n",
              "<table border=\"1\" class=\"dataframe\">\n",
              "  <thead>\n",
              "    <tr style=\"text-align: right;\">\n",
              "      <th></th>\n",
              "      <th>spread</th>\n",
              "      <th>action</th>\n",
              "    </tr>\n",
              "  </thead>\n",
              "  <tbody>\n",
              "    <tr>\n",
              "      <th>2018-05-29 13:00:00</th>\n",
              "      <td>0.004526</td>\n",
              "      <td>buy</td>\n",
              "    </tr>\n",
              "    <tr>\n",
              "      <th>2018-05-29 14:00:00</th>\n",
              "      <td>0.002701</td>\n",
              "      <td>nan</td>\n",
              "    </tr>\n",
              "    <tr>\n",
              "      <th>2018-05-29 15:00:00</th>\n",
              "      <td>0.004159</td>\n",
              "      <td>buy</td>\n",
              "    </tr>\n",
              "  </tbody>\n",
              "</table>\n",
              "</div>"
            ]
          },
          "metadata": {
            "tags": []
          }
        },
        {
          "output_type": "stream",
          "text": [
            "contango_df.shape: (3000, 2)\n"
          ],
          "name": "stdout"
        }
      ]
    },
    {
      "cell_type": "markdown",
      "metadata": {
        "id": "UlMiTAvy-d7o"
      },
      "source": [
        "__2. 포지션 진입 시점, 청산 시점 파악하기__\n",
        "- 진입 구간, 청산 구간의 맨 처음 시간 (time point)를 진입 시점, 청산시점으로 잡는다."
      ]
    },
    {
      "cell_type": "code",
      "metadata": {
        "id": "-yBn6pzs-d7p",
        "trusted": true,
        "outputId": "c1860fa9-f27c-4aab-c58c-41374ad17611"
      },
      "source": [
        "# 아무런 액션 없는 nan 로우들 제거하기\n",
        "filtered_con_df = con_df[(con_df.loc[:,'action'] == 'buy') | (con_df.loc[:,'action'] == 'sell')]\n",
        "display(filtered_con_df.head(3))\n",
        "print(f\"filtered_contango_df.shape: {filtered_con_df.shape}\")"
      ],
      "execution_count": null,
      "outputs": [
        {
          "output_type": "display_data",
          "data": {
            "text/plain": [
              "                       spread action\n",
              "2018-05-29 13:00:00  0.004526    buy\n",
              "2018-05-29 15:00:00  0.004159    buy\n",
              "2018-05-29 16:00:00  0.003947    buy"
            ],
            "text/html": [
              "<div>\n",
              "<style scoped>\n",
              "    .dataframe tbody tr th:only-of-type {\n",
              "        vertical-align: middle;\n",
              "    }\n",
              "\n",
              "    .dataframe tbody tr th {\n",
              "        vertical-align: top;\n",
              "    }\n",
              "\n",
              "    .dataframe thead th {\n",
              "        text-align: right;\n",
              "    }\n",
              "</style>\n",
              "<table border=\"1\" class=\"dataframe\">\n",
              "  <thead>\n",
              "    <tr style=\"text-align: right;\">\n",
              "      <th></th>\n",
              "      <th>spread</th>\n",
              "      <th>action</th>\n",
              "    </tr>\n",
              "  </thead>\n",
              "  <tbody>\n",
              "    <tr>\n",
              "      <th>2018-05-29 13:00:00</th>\n",
              "      <td>0.004526</td>\n",
              "      <td>buy</td>\n",
              "    </tr>\n",
              "    <tr>\n",
              "      <th>2018-05-29 15:00:00</th>\n",
              "      <td>0.004159</td>\n",
              "      <td>buy</td>\n",
              "    </tr>\n",
              "    <tr>\n",
              "      <th>2018-05-29 16:00:00</th>\n",
              "      <td>0.003947</td>\n",
              "      <td>buy</td>\n",
              "    </tr>\n",
              "  </tbody>\n",
              "</table>\n",
              "</div>"
            ]
          },
          "metadata": {
            "tags": []
          }
        },
        {
          "output_type": "stream",
          "text": [
            "filtered_contango_df.shape: (1783, 2)\n"
          ],
          "name": "stdout"
        }
      ]
    },
    {
      "cell_type": "code",
      "metadata": {
        "id": "OcRrOA_o-d7p",
        "trusted": true,
        "outputId": "f52b3d98-8400-43ae-b8b6-c7a0115dbff5"
      },
      "source": [
        "# 연속된 buy, sell 중 처음의 buy, sell만 남기고 제거하기. (처음 buy, sell 신호가 나왔을 때, 실행하므로 나머지 연속된 buy,sell은 무의미함)\n",
        "con_buy_sell_df = filtered_con_df[filtered_con_df['action'].shift(1) != filtered_con_df['action']]\n",
        "print(\"     buy_sell_df.head(3)\")\n",
        "display(con_buy_sell_df.head(3))\n",
        "\n",
        "print(\"-\" * 35)\n",
        "print()\n",
        "print(\"      con_buy_sell_df.tail(3)\")\n",
        "display(con_buy_sell_df.tail(3))\n",
        "print(f\"con_buy_sell_df.shape: {con_buy_sell_df.shape}\")"
      ],
      "execution_count": null,
      "outputs": [
        {
          "output_type": "stream",
          "text": [
            "     buy_sell_df.head(3)\n"
          ],
          "name": "stdout"
        },
        {
          "output_type": "display_data",
          "data": {
            "text/plain": [
              "                       spread action\n",
              "2018-05-29 13:00:00  0.004526    buy\n",
              "2018-06-11 06:00:00  0.000171   sell\n",
              "2018-07-02 01:00:00  0.003498    buy"
            ],
            "text/html": [
              "<div>\n",
              "<style scoped>\n",
              "    .dataframe tbody tr th:only-of-type {\n",
              "        vertical-align: middle;\n",
              "    }\n",
              "\n",
              "    .dataframe tbody tr th {\n",
              "        vertical-align: top;\n",
              "    }\n",
              "\n",
              "    .dataframe thead th {\n",
              "        text-align: right;\n",
              "    }\n",
              "</style>\n",
              "<table border=\"1\" class=\"dataframe\">\n",
              "  <thead>\n",
              "    <tr style=\"text-align: right;\">\n",
              "      <th></th>\n",
              "      <th>spread</th>\n",
              "      <th>action</th>\n",
              "    </tr>\n",
              "  </thead>\n",
              "  <tbody>\n",
              "    <tr>\n",
              "      <th>2018-05-29 13:00:00</th>\n",
              "      <td>0.004526</td>\n",
              "      <td>buy</td>\n",
              "    </tr>\n",
              "    <tr>\n",
              "      <th>2018-06-11 06:00:00</th>\n",
              "      <td>0.000171</td>\n",
              "      <td>sell</td>\n",
              "    </tr>\n",
              "    <tr>\n",
              "      <th>2018-07-02 01:00:00</th>\n",
              "      <td>0.003498</td>\n",
              "      <td>buy</td>\n",
              "    </tr>\n",
              "  </tbody>\n",
              "</table>\n",
              "</div>"
            ]
          },
          "metadata": {
            "tags": []
          }
        },
        {
          "output_type": "stream",
          "text": [
            "-----------------------------------\n",
            "\n",
            "\n",
            "\n",
            "      con_buy_sell_df.tail(3)\n"
          ],
          "name": "stdout"
        },
        {
          "output_type": "display_data",
          "data": {
            "text/plain": [
              "                       spread action\n",
              "2018-08-24 20:00:00  0.000467   sell\n",
              "2018-08-25 15:00:00  0.003052    buy\n",
              "2018-08-26 22:00:00  0.000483   sell"
            ],
            "text/html": [
              "<div>\n",
              "<style scoped>\n",
              "    .dataframe tbody tr th:only-of-type {\n",
              "        vertical-align: middle;\n",
              "    }\n",
              "\n",
              "    .dataframe tbody tr th {\n",
              "        vertical-align: top;\n",
              "    }\n",
              "\n",
              "    .dataframe thead th {\n",
              "        text-align: right;\n",
              "    }\n",
              "</style>\n",
              "<table border=\"1\" class=\"dataframe\">\n",
              "  <thead>\n",
              "    <tr style=\"text-align: right;\">\n",
              "      <th></th>\n",
              "      <th>spread</th>\n",
              "      <th>action</th>\n",
              "    </tr>\n",
              "  </thead>\n",
              "  <tbody>\n",
              "    <tr>\n",
              "      <th>2018-08-24 20:00:00</th>\n",
              "      <td>0.000467</td>\n",
              "      <td>sell</td>\n",
              "    </tr>\n",
              "    <tr>\n",
              "      <th>2018-08-25 15:00:00</th>\n",
              "      <td>0.003052</td>\n",
              "      <td>buy</td>\n",
              "    </tr>\n",
              "    <tr>\n",
              "      <th>2018-08-26 22:00:00</th>\n",
              "      <td>0.000483</td>\n",
              "      <td>sell</td>\n",
              "    </tr>\n",
              "  </tbody>\n",
              "</table>\n",
              "</div>"
            ]
          },
          "metadata": {
            "tags": []
          }
        },
        {
          "output_type": "stream",
          "text": [
            "con_buy_sell_df.shape: (22, 2)\n"
          ],
          "name": "stdout"
        }
      ]
    },
    {
      "cell_type": "markdown",
      "metadata": {
        "id": "qqtEHOjo-d7q"
      },
      "source": [
        "__체크해야할 점 2가지__\n",
        "- __1) action 칼럼의 맨 처음 행동이 sell인가?__ \n",
        "  - __만약 그렇다면 포지션에 노출되어 있지도 않은데, 포지션을 나갈 수 없으므로 이 sell 행동은 제거한다.__\n",
        "  - __해당되지 않음__\n",
        "  \n",
        "\n",
        "- __2) action 칼럼의 맨 마지막 행동이 buy인가?__\n",
        "    - __만약 그렇다면, 해당 블럭의 맨 마지막 시간의 포지션으로 포지션 청산해야 함.__\n",
        "    - __해당되지 않음__"
      ]
    },
    {
      "cell_type": "markdown",
      "metadata": {
        "id": "axXeryxr-d7s"
      },
      "source": [
        "__3. 진입, 청산 시점 정리하기__\n",
        "- __시점을 시간(datetime), 인덱스(index number) 별로 각각 파악해야 한다.__"
      ]
    },
    {
      "cell_type": "code",
      "metadata": {
        "id": "ttG3UPTf-d7s",
        "trusted": true,
        "outputId": "0f77c204-e31e-4ebb-acd4-9a776a002015"
      },
      "source": [
        "# 포지션 진입 시점을 datetime 으로 파악\n",
        "con_buy_time_array = np.array([x for x in con_buy_sell_df.index[::2]]) # [::2]는 0,2,4,6,...식으로 indexing을 하라는 뜻이다.\n",
        "con_buy_time_array"
      ],
      "execution_count": null,
      "outputs": [
        {
          "output_type": "execute_result",
          "data": {
            "text/plain": [
              "array([Timestamp('2018-05-29 13:00:00'), Timestamp('2018-07-02 01:00:00'),\n",
              "       Timestamp('2018-07-04 22:00:00'), Timestamp('2018-07-12 06:00:00'),\n",
              "       Timestamp('2018-07-19 15:00:00'), Timestamp('2018-07-26 00:00:00'),\n",
              "       Timestamp('2018-08-14 04:00:00'), Timestamp('2018-08-20 09:00:00'),\n",
              "       Timestamp('2018-08-22 16:00:00'), Timestamp('2018-08-23 17:00:00'),\n",
              "       Timestamp('2018-08-25 15:00:00')], dtype=object)"
            ]
          },
          "metadata": {
            "tags": []
          },
          "execution_count": 57
        }
      ]
    },
    {
      "cell_type": "code",
      "metadata": {
        "id": "bubH54kf-d7t",
        "trusted": true,
        "outputId": "4f0162c4-7932-487b-9426-4da542b32b37"
      },
      "source": [
        "# 포지션 진입 시점을 raw_data_df의 인덱스로 파악\n",
        "con_buy_index_array = raw_data_df.index.searchsorted(con_buy_time_array)\n",
        "con_buy_index_array"
      ],
      "execution_count": null,
      "outputs": [
        {
          "output_type": "execute_result",
          "data": {
            "text/plain": [
              "array([   0,  744,  813,  989, 1166, 1319, 1779, 1928, 1983, 2008, 2054],\n",
              "      dtype=int64)"
            ]
          },
          "metadata": {
            "tags": []
          },
          "execution_count": 58
        }
      ]
    },
    {
      "cell_type": "code",
      "metadata": {
        "id": "F8Qr6Nae-d7u",
        "trusted": true,
        "outputId": "4151dcd8-f643-4af3-84bd-c078b76ad0db"
      },
      "source": [
        "# 포지션 청산 시점을 datetime 으로 파악\n",
        "con_sell_time_array = np.array([x for x in con_buy_sell_df.index[1::2]]) # [1::2]는 1,3,5,7,...식으로 indexing을 하라는 뜻이다.\n",
        "con_sell_time_array"
      ],
      "execution_count": null,
      "outputs": [
        {
          "output_type": "execute_result",
          "data": {
            "text/plain": [
              "array([Timestamp('2018-06-11 06:00:00'), Timestamp('2018-07-02 16:00:00'),\n",
              "       Timestamp('2018-07-05 12:00:00'), Timestamp('2018-07-13 19:00:00'),\n",
              "       Timestamp('2018-07-20 05:00:00'), Timestamp('2018-08-08 16:00:00'),\n",
              "       Timestamp('2018-08-14 15:00:00'), Timestamp('2018-08-20 11:00:00'),\n",
              "       Timestamp('2018-08-23 00:00:00'), Timestamp('2018-08-24 20:00:00'),\n",
              "       Timestamp('2018-08-26 22:00:00')], dtype=object)"
            ]
          },
          "metadata": {
            "tags": []
          },
          "execution_count": 59
        }
      ]
    },
    {
      "cell_type": "code",
      "metadata": {
        "id": "AJ2NIhpx-d7y",
        "trusted": true,
        "outputId": "bd1d99be-d7f9-4703-d310-6e65552feb9a"
      },
      "source": [
        "# 포지션 청산 시점을 raw_data_df의 인덱스로 파악\n",
        "con_sell_index_array = raw_data_df.index.searchsorted(con_sell_time_array)\n",
        "con_sell_index_array"
      ],
      "execution_count": null,
      "outputs": [
        {
          "output_type": "execute_result",
          "data": {
            "text/plain": [
              "array([ 305,  759,  827, 1026, 1180, 1647, 1790, 1930, 1991, 2035, 2085],\n",
              "      dtype=int64)"
            ]
          },
          "metadata": {
            "tags": []
          },
          "execution_count": 60
        }
      ]
    },
    {
      "cell_type": "code",
      "metadata": {
        "id": "7DSka6b_-d7z",
        "trusted": true,
        "outputId": "da00ec7c-c9a4-4db6-9dd6-d1a7e8de61f1"
      },
      "source": [
        "# datetime으로 파악한 포지션 진입 + 청산 시점 \n",
        "con_buy_sell_time_array = np.concatenate((con_buy_time_array, con_sell_time_array))\n",
        "con_buy_sell_time_array.sort()\n",
        "con_buy_sell_time_array"
      ],
      "execution_count": null,
      "outputs": [
        {
          "output_type": "execute_result",
          "data": {
            "text/plain": [
              "array([Timestamp('2018-05-29 13:00:00'), Timestamp('2018-06-11 06:00:00'),\n",
              "       Timestamp('2018-07-02 01:00:00'), Timestamp('2018-07-02 16:00:00'),\n",
              "       Timestamp('2018-07-04 22:00:00'), Timestamp('2018-07-05 12:00:00'),\n",
              "       Timestamp('2018-07-12 06:00:00'), Timestamp('2018-07-13 19:00:00'),\n",
              "       Timestamp('2018-07-19 15:00:00'), Timestamp('2018-07-20 05:00:00'),\n",
              "       Timestamp('2018-07-26 00:00:00'), Timestamp('2018-08-08 16:00:00'),\n",
              "       Timestamp('2018-08-14 04:00:00'), Timestamp('2018-08-14 15:00:00'),\n",
              "       Timestamp('2018-08-20 09:00:00'), Timestamp('2018-08-20 11:00:00'),\n",
              "       Timestamp('2018-08-22 16:00:00'), Timestamp('2018-08-23 00:00:00'),\n",
              "       Timestamp('2018-08-23 17:00:00'), Timestamp('2018-08-24 20:00:00'),\n",
              "       Timestamp('2018-08-25 15:00:00'), Timestamp('2018-08-26 22:00:00')],\n",
              "      dtype=object)"
            ]
          },
          "metadata": {
            "tags": []
          },
          "execution_count": 61
        }
      ]
    },
    {
      "cell_type": "code",
      "metadata": {
        "id": "iDmXMucm-d70",
        "trusted": true,
        "outputId": "be27d955-b91f-4064-ad1f-fa2504c75b56"
      },
      "source": [
        "# raw_data_df의 인덱스로 파악한 포지션 진입 + 청산시점\n",
        "con_buy_sell_index_array = raw_data_df.index.searchsorted(con_buy_sell_time_array)\n",
        "con_buy_sell_index_array"
      ],
      "execution_count": null,
      "outputs": [
        {
          "output_type": "execute_result",
          "data": {
            "text/plain": [
              "array([   0,  305,  744,  759,  813,  827,  989, 1026, 1166, 1180, 1319,\n",
              "       1647, 1779, 1790, 1928, 1930, 1983, 1991, 2008, 2035, 2054, 2085],\n",
              "      dtype=int64)"
            ]
          },
          "metadata": {
            "tags": []
          },
          "execution_count": 62
        }
      ]
    },
    {
      "cell_type": "markdown",
      "metadata": {
        "id": "01B1uW9N-d72"
      },
      "source": [
        "__4. 포지션 들고 있을 때 포트폴리오 밸류 변화 파악하기__"
      ]
    },
    {
      "cell_type": "code",
      "metadata": {
        "id": "I0QtlQDH-d73",
        "trusted": true,
        "outputId": "f38e03b2-7373-41c6-f011-a24e445582ff"
      },
      "source": [
        "# 위의 con_buy_sell_index_array (진입시점 ~ 청산시점) 중간에 비는 숫자 index들을 np.arange로 채움\n",
        "# np.arange는 start_point는 포함하고, end_point는 포함하지 않음 --> 즉 포지션 진입 시점의 index는 포함, 포지션 청산 시점의 index는 불포함.\n",
        "con_position_hold_index_array = np.hstack([np.arange(i1, i2) for i1, i2 in zip(con_buy_sell_index_array[::2], con_buy_sell_index_array[1::2])])\n",
        "\n",
        "# 포지션 진입시점 ~ 포지션 청산 시점 바로 전까지의 스프레드를 모아놓은 데이터프레임을 만든다\n",
        "con_position_hold_df = raw_data_df.iloc[con_position_hold_index_array]\n",
        "\n",
        "# 확인\n",
        "print(\" con_position_hold_df.head(3)\")\n",
        "display(con_position_hold_df.head(3))\n",
        "print(\"-\" * 25)\n",
        "print()\n",
        "print(\" con_position_hold_df.tail(3)\")\n",
        "display(con_position_hold_df.tail(3))\n",
        "print(f\"con_position_hold_df.shape: {con_position_hold_df.shape}\")"
      ],
      "execution_count": null,
      "outputs": [
        {
          "output_type": "stream",
          "text": [
            " con_position_hold_df.head(3)\n"
          ],
          "name": "stdout"
        },
        {
          "output_type": "display_data",
          "data": {
            "text/plain": [
              "                       spread\n",
              "2018-05-29 13:00:00  0.004526\n",
              "2018-05-29 14:00:00  0.002701\n",
              "2018-05-29 15:00:00  0.004159"
            ],
            "text/html": [
              "<div>\n",
              "<style scoped>\n",
              "    .dataframe tbody tr th:only-of-type {\n",
              "        vertical-align: middle;\n",
              "    }\n",
              "\n",
              "    .dataframe tbody tr th {\n",
              "        vertical-align: top;\n",
              "    }\n",
              "\n",
              "    .dataframe thead th {\n",
              "        text-align: right;\n",
              "    }\n",
              "</style>\n",
              "<table border=\"1\" class=\"dataframe\">\n",
              "  <thead>\n",
              "    <tr style=\"text-align: right;\">\n",
              "      <th></th>\n",
              "      <th>spread</th>\n",
              "    </tr>\n",
              "  </thead>\n",
              "  <tbody>\n",
              "    <tr>\n",
              "      <th>2018-05-29 13:00:00</th>\n",
              "      <td>0.004526</td>\n",
              "    </tr>\n",
              "    <tr>\n",
              "      <th>2018-05-29 14:00:00</th>\n",
              "      <td>0.002701</td>\n",
              "    </tr>\n",
              "    <tr>\n",
              "      <th>2018-05-29 15:00:00</th>\n",
              "      <td>0.004159</td>\n",
              "    </tr>\n",
              "  </tbody>\n",
              "</table>\n",
              "</div>"
            ]
          },
          "metadata": {
            "tags": []
          }
        },
        {
          "output_type": "stream",
          "text": [
            "-------------------------\n",
            "\n",
            "\n",
            "\n",
            " con_position_hold_df.tail(3)\n"
          ],
          "name": "stdout"
        },
        {
          "output_type": "display_data",
          "data": {
            "text/plain": [
              "                       spread\n",
              "2018-08-26 19:00:00  0.000975\n",
              "2018-08-26 20:00:00  0.001165\n",
              "2018-08-26 21:00:00  0.000688"
            ],
            "text/html": [
              "<div>\n",
              "<style scoped>\n",
              "    .dataframe tbody tr th:only-of-type {\n",
              "        vertical-align: middle;\n",
              "    }\n",
              "\n",
              "    .dataframe tbody tr th {\n",
              "        vertical-align: top;\n",
              "    }\n",
              "\n",
              "    .dataframe thead th {\n",
              "        text-align: right;\n",
              "    }\n",
              "</style>\n",
              "<table border=\"1\" class=\"dataframe\">\n",
              "  <thead>\n",
              "    <tr style=\"text-align: right;\">\n",
              "      <th></th>\n",
              "      <th>spread</th>\n",
              "    </tr>\n",
              "  </thead>\n",
              "  <tbody>\n",
              "    <tr>\n",
              "      <th>2018-08-26 19:00:00</th>\n",
              "      <td>0.000975</td>\n",
              "    </tr>\n",
              "    <tr>\n",
              "      <th>2018-08-26 20:00:00</th>\n",
              "      <td>0.001165</td>\n",
              "    </tr>\n",
              "    <tr>\n",
              "      <th>2018-08-26 21:00:00</th>\n",
              "      <td>0.000688</td>\n",
              "    </tr>\n",
              "  </tbody>\n",
              "</table>\n",
              "</div>"
            ]
          },
          "metadata": {
            "tags": []
          }
        },
        {
          "output_type": "stream",
          "text": [
            "con_position_hold_df.shape: (792, 1)\n"
          ],
          "name": "stdout"
        }
      ]
    },
    {
      "cell_type": "markdown",
      "metadata": {
        "id": "YEQiDCWa-d74"
      },
      "source": [
        "- __위에 tail에서 확인할 수 있듯이 맨 마지막 sales 시간인 `2018-08-26 22:00:00'은 데이터프레임에서 제외되어 있음 (이는 np.arange가 오른쪽 경계를 포함하지 않기 때문)__\n",
        "- __따라서 `position_hold_index_array` 및 `position_hold_df`를 사용할 때, 포지션 청산 시점에서의 스프레드는 고려하지 않아도 되므로 편함__"
      ]
    },
    {
      "cell_type": "markdown",
      "metadata": {
        "id": "5f-bnrpW-d75"
      },
      "source": [
        "__5-1. 비실현수익 계산__"
      ]
    },
    {
      "cell_type": "code",
      "metadata": {
        "id": "k4lQ79gH-d76",
        "trusted": true,
        "outputId": "a9388b11-1faa-48be-866d-4c43e764838f"
      },
      "source": [
        "con_position_hold_df.loc[con_buy_time_array,'buy_spread'] = con_position_hold_df.loc[con_buy_time_array,'spread']\n",
        "con_position_hold_df.fillna(method = 'ffill', inplace = True)\n",
        "con_position_hold_df.loc[:,'unrealized_profit'] = (con_position_hold_df.loc[:,'buy_spread'] - con_position_hold_df.loc[:,'spread']) - trading_fee\n",
        "\n",
        "print(\" \"*12 +\"con_position_hold_df.head(3)\")\n",
        "con_position_hold_df.head(3)"
      ],
      "execution_count": null,
      "outputs": [
        {
          "output_type": "stream",
          "text": [
            "            con_position_hold_df.head(3)\n"
          ],
          "name": "stdout"
        },
        {
          "output_type": "execute_result",
          "data": {
            "text/plain": [
              "                       spread  buy_spread  unrealized_profit\n",
              "2018-05-29 13:00:00  0.004526    0.004526          -0.001000\n",
              "2018-05-29 14:00:00  0.002701    0.004526           0.000825\n",
              "2018-05-29 15:00:00  0.004159    0.004526          -0.000633"
            ],
            "text/html": [
              "<div>\n",
              "<style scoped>\n",
              "    .dataframe tbody tr th:only-of-type {\n",
              "        vertical-align: middle;\n",
              "    }\n",
              "\n",
              "    .dataframe tbody tr th {\n",
              "        vertical-align: top;\n",
              "    }\n",
              "\n",
              "    .dataframe thead th {\n",
              "        text-align: right;\n",
              "    }\n",
              "</style>\n",
              "<table border=\"1\" class=\"dataframe\">\n",
              "  <thead>\n",
              "    <tr style=\"text-align: right;\">\n",
              "      <th></th>\n",
              "      <th>spread</th>\n",
              "      <th>buy_spread</th>\n",
              "      <th>unrealized_profit</th>\n",
              "    </tr>\n",
              "  </thead>\n",
              "  <tbody>\n",
              "    <tr>\n",
              "      <th>2018-05-29 13:00:00</th>\n",
              "      <td>0.004526</td>\n",
              "      <td>0.004526</td>\n",
              "      <td>-0.001000</td>\n",
              "    </tr>\n",
              "    <tr>\n",
              "      <th>2018-05-29 14:00:00</th>\n",
              "      <td>0.002701</td>\n",
              "      <td>0.004526</td>\n",
              "      <td>0.000825</td>\n",
              "    </tr>\n",
              "    <tr>\n",
              "      <th>2018-05-29 15:00:00</th>\n",
              "      <td>0.004159</td>\n",
              "      <td>0.004526</td>\n",
              "      <td>-0.000633</td>\n",
              "    </tr>\n",
              "  </tbody>\n",
              "</table>\n",
              "</div>"
            ]
          },
          "metadata": {
            "tags": []
          },
          "execution_count": 64
        }
      ]
    },
    {
      "cell_type": "code",
      "metadata": {
        "id": "MS43QYdG-d77",
        "trusted": true
      },
      "source": [
        "con_unrealized_profit_series = con_position_hold_df.loc[:,'unrealized_profit']"
      ],
      "execution_count": null,
      "outputs": []
    },
    {
      "cell_type": "markdown",
      "metadata": {
        "id": "-yCJ7q6l-d78"
      },
      "source": [
        "__5-2. 실현수익 계산__"
      ]
    },
    {
      "cell_type": "code",
      "metadata": {
        "id": "UqrDwm1e-d78",
        "trusted": true,
        "outputId": "790e0be3-f5ba-452d-e130-a6ca2fa3b691"
      },
      "source": [
        "# buy_sell_df기준: action = 'sell'인 로우에서 (buy_spread - sell_spread)의 차이를 계산할 수 있도록 하나의 row를 shift시킨다.\n",
        "con_buy_sell_df.loc[:,'shifted_spread'] = con_buy_sell_df.loc[:,'spread'].shift(1) \n",
        "\n",
        "# Action = 'buy'인 로우는 수익과 상관없으므로 제거한다\n",
        "con_sell_df = con_buy_sell_df[con_buy_sell_df.loc[:,'action'] == 'sell']  # sell_df의 shifted_spread는 이제 buy_spread를 의미함\n",
        "\n",
        "# realized_profit을 계산한다\n",
        "con_sell_df.loc[:,'realized_profit'] = (con_sell_df.loc[:,'shifted_spread'] - con_sell_df.loc[:,'spread']) - trading_fee\n",
        "\n",
        "print(\" \"*20+\"con_sell_df.head(3)\")\n",
        "display(con_sell_df.head(3))\n",
        "print(f\"con_sell_df.shape: {con_sell_df.shape}\")"
      ],
      "execution_count": null,
      "outputs": [
        {
          "output_type": "stream",
          "text": [
            "                    con_sell_df.head(3)\n"
          ],
          "name": "stdout"
        },
        {
          "output_type": "display_data",
          "data": {
            "text/plain": [
              "                       spread action  shifted_spread  realized_profit\n",
              "2018-06-11 06:00:00  0.000171   sell        0.004526         0.003355\n",
              "2018-07-02 16:00:00  0.000332   sell        0.003498         0.002166\n",
              "2018-07-05 12:00:00  0.000051   sell        0.004583         0.003532"
            ],
            "text/html": [
              "<div>\n",
              "<style scoped>\n",
              "    .dataframe tbody tr th:only-of-type {\n",
              "        vertical-align: middle;\n",
              "    }\n",
              "\n",
              "    .dataframe tbody tr th {\n",
              "        vertical-align: top;\n",
              "    }\n",
              "\n",
              "    .dataframe thead th {\n",
              "        text-align: right;\n",
              "    }\n",
              "</style>\n",
              "<table border=\"1\" class=\"dataframe\">\n",
              "  <thead>\n",
              "    <tr style=\"text-align: right;\">\n",
              "      <th></th>\n",
              "      <th>spread</th>\n",
              "      <th>action</th>\n",
              "      <th>shifted_spread</th>\n",
              "      <th>realized_profit</th>\n",
              "    </tr>\n",
              "  </thead>\n",
              "  <tbody>\n",
              "    <tr>\n",
              "      <th>2018-06-11 06:00:00</th>\n",
              "      <td>0.000171</td>\n",
              "      <td>sell</td>\n",
              "      <td>0.004526</td>\n",
              "      <td>0.003355</td>\n",
              "    </tr>\n",
              "    <tr>\n",
              "      <th>2018-07-02 16:00:00</th>\n",
              "      <td>0.000332</td>\n",
              "      <td>sell</td>\n",
              "      <td>0.003498</td>\n",
              "      <td>0.002166</td>\n",
              "    </tr>\n",
              "    <tr>\n",
              "      <th>2018-07-05 12:00:00</th>\n",
              "      <td>0.000051</td>\n",
              "      <td>sell</td>\n",
              "      <td>0.004583</td>\n",
              "      <td>0.003532</td>\n",
              "    </tr>\n",
              "  </tbody>\n",
              "</table>\n",
              "</div>"
            ]
          },
          "metadata": {
            "tags": []
          }
        },
        {
          "output_type": "stream",
          "text": [
            "con_sell_df.shape: (11, 4)\n"
          ],
          "name": "stdout"
        }
      ]
    },
    {
      "cell_type": "code",
      "metadata": {
        "id": "w_bfzszh-d7-",
        "trusted": true
      },
      "source": [
        "con_realized_profit_series = con_sell_df.loc[:,'realized_profit']"
      ],
      "execution_count": null,
      "outputs": []
    },
    {
      "cell_type": "markdown",
      "metadata": {
        "id": "ass4kRno-d8A"
      },
      "source": [
        "## __Step 03. Back-wardation Scenario__\n",
        "- 백워데이션 상황에서 수익파악하기"
      ]
    },
    {
      "cell_type": "markdown",
      "metadata": {
        "id": "wM4-7l7o-d8C"
      },
      "source": [
        "__1. 포지션 진입 구간, 포지션 청산 구간 파악하기__"
      ]
    },
    {
      "cell_type": "code",
      "metadata": {
        "id": "TH_vyp15-d8D",
        "trusted": true,
        "outputId": "302d723e-32cb-478b-85d0-a09688b8c849"
      },
      "source": [
        "# buy_threshold, sell_threshold에 따라서 action (buy, sell) 정하기\n",
        "# 코드 도움: https://stackoverflow.com/a/39111919/8846998\n",
        "back_df = copy.deepcopy(raw_data_df) # con_df = contango_df\n",
        "\n",
        "k = 1  #std에 몇배를 해서 mean과 더할지 결정하는 상수. 예시에서는 k=1 활용\n",
        "\n",
        "col         = 'spread'\n",
        "conditions  = [back_df.loc[:,col] <= (mean_df-(k*std_df)), # 스프레드가 (mean_df-(k*std_df))보다 작다면 백워데이션 과열되었다고 판단 --> 포지션 진입 구간\n",
        "               back_df.loc[:,col] >= mean_df] # 스프레드 평균(mean)보다 같거나 클시 시장 정상화라고 판단 --> 포지션 청산 구간 \n",
        " \n",
        "choices     = [\"buy\", \"sell\"]\n",
        "    \n",
        "back_df.loc[:,\"action\"] = np.select(conditions, choices, default=np.nan)\n",
        "display(back_df.head(3))\n",
        "print(f\"back_df.shape: {back_df.shape}\")"
      ],
      "execution_count": null,
      "outputs": [
        {
          "output_type": "display_data",
          "data": {
            "text/plain": [
              "                       spread action\n",
              "2018-05-29 13:00:00  0.004526   sell\n",
              "2018-05-29 14:00:00  0.002701   sell\n",
              "2018-05-29 15:00:00  0.004159   sell"
            ],
            "text/html": [
              "<div>\n",
              "<style scoped>\n",
              "    .dataframe tbody tr th:only-of-type {\n",
              "        vertical-align: middle;\n",
              "    }\n",
              "\n",
              "    .dataframe tbody tr th {\n",
              "        vertical-align: top;\n",
              "    }\n",
              "\n",
              "    .dataframe thead th {\n",
              "        text-align: right;\n",
              "    }\n",
              "</style>\n",
              "<table border=\"1\" class=\"dataframe\">\n",
              "  <thead>\n",
              "    <tr style=\"text-align: right;\">\n",
              "      <th></th>\n",
              "      <th>spread</th>\n",
              "      <th>action</th>\n",
              "    </tr>\n",
              "  </thead>\n",
              "  <tbody>\n",
              "    <tr>\n",
              "      <th>2018-05-29 13:00:00</th>\n",
              "      <td>0.004526</td>\n",
              "      <td>sell</td>\n",
              "    </tr>\n",
              "    <tr>\n",
              "      <th>2018-05-29 14:00:00</th>\n",
              "      <td>0.002701</td>\n",
              "      <td>sell</td>\n",
              "    </tr>\n",
              "    <tr>\n",
              "      <th>2018-05-29 15:00:00</th>\n",
              "      <td>0.004159</td>\n",
              "      <td>sell</td>\n",
              "    </tr>\n",
              "  </tbody>\n",
              "</table>\n",
              "</div>"
            ]
          },
          "metadata": {
            "tags": []
          }
        },
        {
          "output_type": "stream",
          "text": [
            "back_df.shape: (3000, 2)\n"
          ],
          "name": "stdout"
        }
      ]
    },
    {
      "cell_type": "code",
      "metadata": {
        "id": "4UuOK6AO-d8G",
        "trusted": true,
        "outputId": "68ae828a-d61e-437a-f718-782f643a539c"
      },
      "source": [
        "back_df.action.value_counts()"
      ],
      "execution_count": null,
      "outputs": [
        {
          "output_type": "execute_result",
          "data": {
            "text/plain": [
              "sell    1656\n",
              "nan     1044\n",
              "buy      300\n",
              "Name: action, dtype: int64"
            ]
          },
          "metadata": {
            "tags": []
          },
          "execution_count": 69
        }
      ]
    },
    {
      "cell_type": "markdown",
      "metadata": {
        "id": "R8LJa7gh-d8I"
      },
      "source": [
        "__2. 포지션 진입 시점, 청산 시점 파악하기__\n",
        "- 진입 구간, 청산 구간의 맨 처음 시간 (time point)를 진입 시점, 청산시점으로 잡는다."
      ]
    },
    {
      "cell_type": "code",
      "metadata": {
        "id": "WZL9jJ5M-d8J",
        "trusted": true,
        "outputId": "0a9832b3-c2ef-4728-f08a-8fb0ee13d25f"
      },
      "source": [
        "# 아무런 액션 없는 nan 로우들 제거하기\n",
        "filtered_back_df = back_df[(back_df.loc[:,'action'] == 'buy') | (back_df.loc[:,'action'] == 'sell')]\n",
        "display(filtered_back_df.head(3))\n",
        "print(f\"filtered_back_df.shape: {filtered_back_df.shape}\")"
      ],
      "execution_count": null,
      "outputs": [
        {
          "output_type": "display_data",
          "data": {
            "text/plain": [
              "                       spread action\n",
              "2018-05-29 13:00:00  0.004526   sell\n",
              "2018-05-29 14:00:00  0.002701   sell\n",
              "2018-05-29 15:00:00  0.004159   sell"
            ],
            "text/html": [
              "<div>\n",
              "<style scoped>\n",
              "    .dataframe tbody tr th:only-of-type {\n",
              "        vertical-align: middle;\n",
              "    }\n",
              "\n",
              "    .dataframe tbody tr th {\n",
              "        vertical-align: top;\n",
              "    }\n",
              "\n",
              "    .dataframe thead th {\n",
              "        text-align: right;\n",
              "    }\n",
              "</style>\n",
              "<table border=\"1\" class=\"dataframe\">\n",
              "  <thead>\n",
              "    <tr style=\"text-align: right;\">\n",
              "      <th></th>\n",
              "      <th>spread</th>\n",
              "      <th>action</th>\n",
              "    </tr>\n",
              "  </thead>\n",
              "  <tbody>\n",
              "    <tr>\n",
              "      <th>2018-05-29 13:00:00</th>\n",
              "      <td>0.004526</td>\n",
              "      <td>sell</td>\n",
              "    </tr>\n",
              "    <tr>\n",
              "      <th>2018-05-29 14:00:00</th>\n",
              "      <td>0.002701</td>\n",
              "      <td>sell</td>\n",
              "    </tr>\n",
              "    <tr>\n",
              "      <th>2018-05-29 15:00:00</th>\n",
              "      <td>0.004159</td>\n",
              "      <td>sell</td>\n",
              "    </tr>\n",
              "  </tbody>\n",
              "</table>\n",
              "</div>"
            ]
          },
          "metadata": {
            "tags": []
          }
        },
        {
          "output_type": "stream",
          "text": [
            "filtered_back_df.shape: (1956, 2)\n"
          ],
          "name": "stdout"
        }
      ]
    },
    {
      "cell_type": "code",
      "metadata": {
        "id": "VRRzaOtP-d8K",
        "trusted": true,
        "outputId": "d4ab0299-56f4-483f-f23d-cb7a4a06c866"
      },
      "source": [
        "# 연속된 buy, sell 중 처음의 buy, sell만 남기고 제거하기. (처음 buy, sell 신호가 나왔을 때, 실행하므로 나머지 연속된 buy,sell은 무의미함)\n",
        "back_buy_sell_df = filtered_back_df[filtered_back_df['action'].shift(1) != filtered_back_df['action']]\n",
        "print(\"     back_buy_sell_df.head(3)\")\n",
        "display(back_buy_sell_df.head(3))\n",
        "\n",
        "print(\"-\" * 35)\n",
        "print()\n",
        "print(\"      back_buy_sell_df.tail(3)\")\n",
        "display(back_buy_sell_df.tail(3))\n",
        "print(f\"back_buy_sell_df.shape: {back_buy_sell_df.shape}\")"
      ],
      "execution_count": null,
      "outputs": [
        {
          "output_type": "stream",
          "text": [
            "     back_buy_sell_df.head(3)\n"
          ],
          "name": "stdout"
        },
        {
          "output_type": "display_data",
          "data": {
            "text/plain": [
              "                       spread action\n",
              "2018-05-29 13:00:00  0.004526   sell\n",
              "2018-06-22 17:00:00 -0.003409    buy\n",
              "2018-06-28 21:00:00  0.000902   sell"
            ],
            "text/html": [
              "<div>\n",
              "<style scoped>\n",
              "    .dataframe tbody tr th:only-of-type {\n",
              "        vertical-align: middle;\n",
              "    }\n",
              "\n",
              "    .dataframe tbody tr th {\n",
              "        vertical-align: top;\n",
              "    }\n",
              "\n",
              "    .dataframe thead th {\n",
              "        text-align: right;\n",
              "    }\n",
              "</style>\n",
              "<table border=\"1\" class=\"dataframe\">\n",
              "  <thead>\n",
              "    <tr style=\"text-align: right;\">\n",
              "      <th></th>\n",
              "      <th>spread</th>\n",
              "      <th>action</th>\n",
              "    </tr>\n",
              "  </thead>\n",
              "  <tbody>\n",
              "    <tr>\n",
              "      <th>2018-05-29 13:00:00</th>\n",
              "      <td>0.004526</td>\n",
              "      <td>sell</td>\n",
              "    </tr>\n",
              "    <tr>\n",
              "      <th>2018-06-22 17:00:00</th>\n",
              "      <td>-0.003409</td>\n",
              "      <td>buy</td>\n",
              "    </tr>\n",
              "    <tr>\n",
              "      <th>2018-06-28 21:00:00</th>\n",
              "      <td>0.000902</td>\n",
              "      <td>sell</td>\n",
              "    </tr>\n",
              "  </tbody>\n",
              "</table>\n",
              "</div>"
            ]
          },
          "metadata": {
            "tags": []
          }
        },
        {
          "output_type": "stream",
          "text": [
            "-----------------------------------\n",
            "\n",
            "\n",
            "\n",
            "      back_buy_sell_df.tail(3)\n"
          ],
          "name": "stdout"
        },
        {
          "output_type": "display_data",
          "data": {
            "text/plain": [
              "                       spread action\n",
              "2018-09-19 18:00:00  0.001185   sell\n",
              "2018-09-19 20:00:00 -0.004460    buy\n",
              "2018-09-29 01:00:00  0.000720   sell"
            ],
            "text/html": [
              "<div>\n",
              "<style scoped>\n",
              "    .dataframe tbody tr th:only-of-type {\n",
              "        vertical-align: middle;\n",
              "    }\n",
              "\n",
              "    .dataframe tbody tr th {\n",
              "        vertical-align: top;\n",
              "    }\n",
              "\n",
              "    .dataframe thead th {\n",
              "        text-align: right;\n",
              "    }\n",
              "</style>\n",
              "<table border=\"1\" class=\"dataframe\">\n",
              "  <thead>\n",
              "    <tr style=\"text-align: right;\">\n",
              "      <th></th>\n",
              "      <th>spread</th>\n",
              "      <th>action</th>\n",
              "    </tr>\n",
              "  </thead>\n",
              "  <tbody>\n",
              "    <tr>\n",
              "      <th>2018-09-19 18:00:00</th>\n",
              "      <td>0.001185</td>\n",
              "      <td>sell</td>\n",
              "    </tr>\n",
              "    <tr>\n",
              "      <th>2018-09-19 20:00:00</th>\n",
              "      <td>-0.004460</td>\n",
              "      <td>buy</td>\n",
              "    </tr>\n",
              "    <tr>\n",
              "      <th>2018-09-29 01:00:00</th>\n",
              "      <td>0.000720</td>\n",
              "      <td>sell</td>\n",
              "    </tr>\n",
              "  </tbody>\n",
              "</table>\n",
              "</div>"
            ]
          },
          "metadata": {
            "tags": []
          }
        },
        {
          "output_type": "stream",
          "text": [
            "back_buy_sell_df.shape: (11, 2)\n"
          ],
          "name": "stdout"
        }
      ]
    },
    {
      "cell_type": "markdown",
      "metadata": {
        "id": "GTbz5paN-d8L"
      },
      "source": [
        "__체크해야할 점 2가지__\n",
        "- __1) action 칼럼의 맨 처음 행동이 sell인가? -> <font color='red'>해당함</font>__\n",
        "  - __만약 그렇다면 포지션에 노출되어 있지도 않은데, 포지션을 나갈 수 없으므로 이 sell 행동은 제거한다.__"
      ]
    },
    {
      "cell_type": "code",
      "metadata": {
        "id": "f91XCtl9-d8M",
        "trusted": true,
        "outputId": "cd20e7bf-7efd-4e11-d1fe-ddb8aa081b73"
      },
      "source": [
        "back_buy_sell_df.drop(back_buy_sell_df.index[0], inplace=True)\n",
        "back_buy_sell_df.head(3)"
      ],
      "execution_count": null,
      "outputs": [
        {
          "output_type": "execute_result",
          "data": {
            "text/plain": [
              "                       spread action\n",
              "2018-06-22 17:00:00 -0.003409    buy\n",
              "2018-06-28 21:00:00  0.000902   sell\n",
              "2018-06-29 10:00:00 -0.003333    buy"
            ],
            "text/html": [
              "<div>\n",
              "<style scoped>\n",
              "    .dataframe tbody tr th:only-of-type {\n",
              "        vertical-align: middle;\n",
              "    }\n",
              "\n",
              "    .dataframe tbody tr th {\n",
              "        vertical-align: top;\n",
              "    }\n",
              "\n",
              "    .dataframe thead th {\n",
              "        text-align: right;\n",
              "    }\n",
              "</style>\n",
              "<table border=\"1\" class=\"dataframe\">\n",
              "  <thead>\n",
              "    <tr style=\"text-align: right;\">\n",
              "      <th></th>\n",
              "      <th>spread</th>\n",
              "      <th>action</th>\n",
              "    </tr>\n",
              "  </thead>\n",
              "  <tbody>\n",
              "    <tr>\n",
              "      <th>2018-06-22 17:00:00</th>\n",
              "      <td>-0.003409</td>\n",
              "      <td>buy</td>\n",
              "    </tr>\n",
              "    <tr>\n",
              "      <th>2018-06-28 21:00:00</th>\n",
              "      <td>0.000902</td>\n",
              "      <td>sell</td>\n",
              "    </tr>\n",
              "    <tr>\n",
              "      <th>2018-06-29 10:00:00</th>\n",
              "      <td>-0.003333</td>\n",
              "      <td>buy</td>\n",
              "    </tr>\n",
              "  </tbody>\n",
              "</table>\n",
              "</div>"
            ]
          },
          "metadata": {
            "tags": []
          },
          "execution_count": 72
        }
      ]
    },
    {
      "cell_type": "markdown",
      "metadata": {
        "id": "4rV3hfwM-d8M"
      },
      "source": [
        "- __2) action 칼럼의 맨 마지막 행동이 buy인가?__\n",
        "    - __만약 그렇다면, 해당 블럭의 맨 마지막 시간의 포지션으로 포지션 청산해야 함.__"
      ]
    },
    {
      "cell_type": "markdown",
      "metadata": {
        "id": "Dz-siPnB-d8M"
      },
      "source": [
        "__3. 진입, 청산 시점 정리하기__"
      ]
    },
    {
      "cell_type": "code",
      "metadata": {
        "id": "jwr_1ruu-d8O",
        "trusted": true,
        "outputId": "dd0ab378-9ad6-41fc-f9f2-4c77e8c2ba41"
      },
      "source": [
        "# 포지션 진입 시점을 datetime으로 파악\n",
        "back_buy_time_array = np.array([x for x in back_buy_sell_df.index[::2]]) # [::2]는 0,2,4,6,...식으로 indexing을 하라는 뜻이다.\n",
        "back_buy_time_array"
      ],
      "execution_count": null,
      "outputs": [
        {
          "output_type": "execute_result",
          "data": {
            "text/plain": [
              "array([Timestamp('2018-06-22 17:00:00'), Timestamp('2018-06-29 10:00:00'),\n",
              "       Timestamp('2018-09-08 17:00:00'), Timestamp('2018-09-16 05:00:00'),\n",
              "       Timestamp('2018-09-19 20:00:00')], dtype=object)"
            ]
          },
          "metadata": {
            "tags": []
          },
          "execution_count": 73
        }
      ]
    },
    {
      "cell_type": "code",
      "metadata": {
        "id": "bKSRwOqc-d8P",
        "trusted": true,
        "outputId": "af23e54d-1542-4dc6-9e07-339c755e0044"
      },
      "source": [
        "# 포지션 진입 시점을 raw_data_df의 인덱스로 파악\n",
        "back_buy_index_array = raw_data_df.index.searchsorted(back_buy_time_array)\n",
        "back_buy_index_array"
      ],
      "execution_count": null,
      "outputs": [
        {
          "output_type": "execute_result",
          "data": {
            "text/plain": [
              "array([ 580,  741, 2392, 2572, 2659], dtype=int64)"
            ]
          },
          "metadata": {
            "tags": []
          },
          "execution_count": 74
        }
      ]
    },
    {
      "cell_type": "code",
      "metadata": {
        "id": "hAiTATKD-d8P",
        "trusted": true,
        "outputId": "8f83a5b6-6872-467e-a18a-458b31eb7e6d"
      },
      "source": [
        "# 포지션 청산 시점을 datetime으로 파악\n",
        "back_sell_time_array = np.array([x for x in back_buy_sell_df.index[1::2]]) # [1::2]는 1,3,5,7,...식으로 indexing을 하라는 뜻이다.\n",
        "back_sell_time_array"
      ],
      "execution_count": null,
      "outputs": [
        {
          "output_type": "execute_result",
          "data": {
            "text/plain": [
              "array([Timestamp('2018-06-28 21:00:00'), Timestamp('2018-07-02 01:00:00'),\n",
              "       Timestamp('2018-09-10 11:00:00'), Timestamp('2018-09-19 18:00:00'),\n",
              "       Timestamp('2018-09-29 01:00:00')], dtype=object)"
            ]
          },
          "metadata": {
            "tags": []
          },
          "execution_count": 75
        }
      ]
    },
    {
      "cell_type": "code",
      "metadata": {
        "id": "nXR8l_DO-d8R",
        "trusted": true,
        "outputId": "2de7a50d-3122-4ed0-865a-ea38ead6c86c"
      },
      "source": [
        "# 포지션 청산 시점을 raw_data_df의 인덱스로 파악\n",
        "back_sell_index_array = raw_data_df.index.searchsorted(back_sell_time_array)\n",
        "back_sell_index_array"
      ],
      "execution_count": null,
      "outputs": [
        {
          "output_type": "execute_result",
          "data": {
            "text/plain": [
              "array([ 728,  744, 2434, 2657, 2879], dtype=int64)"
            ]
          },
          "metadata": {
            "tags": []
          },
          "execution_count": 76
        }
      ]
    },
    {
      "cell_type": "code",
      "metadata": {
        "id": "IU683p1s-d8R",
        "trusted": true,
        "outputId": "8e53c684-ce34-4ca9-bc37-66c903da222e"
      },
      "source": [
        "# datetime으로 파악한 포지션 진입 + 청산 시점 \n",
        "back_buy_sell_time_array = np.concatenate((back_buy_time_array, back_sell_time_array))\n",
        "back_buy_sell_time_array.sort()\n",
        "back_buy_sell_time_array"
      ],
      "execution_count": null,
      "outputs": [
        {
          "output_type": "execute_result",
          "data": {
            "text/plain": [
              "array([Timestamp('2018-06-22 17:00:00'), Timestamp('2018-06-28 21:00:00'),\n",
              "       Timestamp('2018-06-29 10:00:00'), Timestamp('2018-07-02 01:00:00'),\n",
              "       Timestamp('2018-09-08 17:00:00'), Timestamp('2018-09-10 11:00:00'),\n",
              "       Timestamp('2018-09-16 05:00:00'), Timestamp('2018-09-19 18:00:00'),\n",
              "       Timestamp('2018-09-19 20:00:00'), Timestamp('2018-09-29 01:00:00')],\n",
              "      dtype=object)"
            ]
          },
          "metadata": {
            "tags": []
          },
          "execution_count": 77
        }
      ]
    },
    {
      "cell_type": "code",
      "metadata": {
        "id": "FYy9VzVJ-d8T",
        "trusted": true,
        "outputId": "0d05f6fe-727c-4db7-e2ab-c1e45b16217c"
      },
      "source": [
        "# raw_data_df의 인덱스로 파악한 포지션 진입 + 청산시점\n",
        "back_buy_sell_index_array = raw_data_df.index.searchsorted(back_buy_sell_time_array)\n",
        "back_buy_sell_index_array"
      ],
      "execution_count": null,
      "outputs": [
        {
          "output_type": "execute_result",
          "data": {
            "text/plain": [
              "array([ 580,  728,  741,  744, 2392, 2434, 2572, 2657, 2659, 2879],\n",
              "      dtype=int64)"
            ]
          },
          "metadata": {
            "tags": []
          },
          "execution_count": 78
        }
      ]
    },
    {
      "cell_type": "markdown",
      "metadata": {
        "id": "Ck82T803-d8V"
      },
      "source": [
        "__4. 포지션 들고 있을 때 포트폴리오 밸류 변화 파악하기__"
      ]
    },
    {
      "cell_type": "code",
      "metadata": {
        "id": "cQYWtutV-d8W",
        "trusted": true,
        "outputId": "cbc5df70-7e98-459b-d171-88ed680338b6"
      },
      "source": [
        "# 위의 buy_sell_index_array (진입시점 ~ 청산시점) 중간에 비는 숫자 index들을 np.arange로 채움\n",
        "# np.arange는 start_point는 포함하고, end_point는 포함하지 않음 --> 즉 포지션 진입 시점의 index는 포함, 포지션 청산 시점의 index는 불포함.\n",
        "back_position_hold_index_array = np.hstack([np.arange(i1, i2) for i1, i2 in zip(back_buy_sell_index_array[::2], back_buy_sell_index_array[1::2])])\n",
        "\n",
        "# 포지션 진입시점 ~ 포지션 청산 시점 바로 전까지의 스프레드를 모아놓은 데이터프레임을 만든다\n",
        "back_position_hold_df = raw_data_df.iloc[back_position_hold_index_array]\n",
        "\n",
        "# 확인\n",
        "print(\" back_position_hold_df.head(3)\")\n",
        "display(back_position_hold_df.head(3))\n",
        "print(\"-\" * 25)\n",
        "print()\n",
        "print(\" back_position_hold_df.tail(3)\")\n",
        "display(back_position_hold_df.tail(3))\n",
        "print(f\"back_position_hold_df.shape: {back_position_hold_df.shape}\")"
      ],
      "execution_count": null,
      "outputs": [
        {
          "output_type": "stream",
          "text": [
            " back_position_hold_df.head(3)\n"
          ],
          "name": "stdout"
        },
        {
          "output_type": "display_data",
          "data": {
            "text/plain": [
              "                       spread\n",
              "2018-06-22 17:00:00 -0.003409\n",
              "2018-06-22 18:00:00 -0.004002\n",
              "2018-06-22 19:00:00 -0.004646"
            ],
            "text/html": [
              "<div>\n",
              "<style scoped>\n",
              "    .dataframe tbody tr th:only-of-type {\n",
              "        vertical-align: middle;\n",
              "    }\n",
              "\n",
              "    .dataframe tbody tr th {\n",
              "        vertical-align: top;\n",
              "    }\n",
              "\n",
              "    .dataframe thead th {\n",
              "        text-align: right;\n",
              "    }\n",
              "</style>\n",
              "<table border=\"1\" class=\"dataframe\">\n",
              "  <thead>\n",
              "    <tr style=\"text-align: right;\">\n",
              "      <th></th>\n",
              "      <th>spread</th>\n",
              "    </tr>\n",
              "  </thead>\n",
              "  <tbody>\n",
              "    <tr>\n",
              "      <th>2018-06-22 17:00:00</th>\n",
              "      <td>-0.003409</td>\n",
              "    </tr>\n",
              "    <tr>\n",
              "      <th>2018-06-22 18:00:00</th>\n",
              "      <td>-0.004002</td>\n",
              "    </tr>\n",
              "    <tr>\n",
              "      <th>2018-06-22 19:00:00</th>\n",
              "      <td>-0.004646</td>\n",
              "    </tr>\n",
              "  </tbody>\n",
              "</table>\n",
              "</div>"
            ]
          },
          "metadata": {
            "tags": []
          }
        },
        {
          "output_type": "stream",
          "text": [
            "-------------------------\n",
            "\n",
            "\n",
            "\n",
            " back_position_hold_df.tail(3)\n"
          ],
          "name": "stdout"
        },
        {
          "output_type": "display_data",
          "data": {
            "text/plain": [
              "                       spread\n",
              "2018-09-28 22:00:00 -0.000092\n",
              "2018-09-28 23:00:00  0.000324\n",
              "2018-09-29 00:00:00  0.000446"
            ],
            "text/html": [
              "<div>\n",
              "<style scoped>\n",
              "    .dataframe tbody tr th:only-of-type {\n",
              "        vertical-align: middle;\n",
              "    }\n",
              "\n",
              "    .dataframe tbody tr th {\n",
              "        vertical-align: top;\n",
              "    }\n",
              "\n",
              "    .dataframe thead th {\n",
              "        text-align: right;\n",
              "    }\n",
              "</style>\n",
              "<table border=\"1\" class=\"dataframe\">\n",
              "  <thead>\n",
              "    <tr style=\"text-align: right;\">\n",
              "      <th></th>\n",
              "      <th>spread</th>\n",
              "    </tr>\n",
              "  </thead>\n",
              "  <tbody>\n",
              "    <tr>\n",
              "      <th>2018-09-28 22:00:00</th>\n",
              "      <td>-0.000092</td>\n",
              "    </tr>\n",
              "    <tr>\n",
              "      <th>2018-09-28 23:00:00</th>\n",
              "      <td>0.000324</td>\n",
              "    </tr>\n",
              "    <tr>\n",
              "      <th>2018-09-29 00:00:00</th>\n",
              "      <td>0.000446</td>\n",
              "    </tr>\n",
              "  </tbody>\n",
              "</table>\n",
              "</div>"
            ]
          },
          "metadata": {
            "tags": []
          }
        },
        {
          "output_type": "stream",
          "text": [
            "back_position_hold_df.shape: (498, 1)\n"
          ],
          "name": "stdout"
        }
      ]
    },
    {
      "cell_type": "markdown",
      "metadata": {
        "id": "BlAJGgZo-d8X"
      },
      "source": [
        "- __위에 tail에서 확인할 수 있듯이 맨 마지막 sales 시간인 `2018-09-29 01:00:00'은 데이터프레임에서 제외되어 있음 (이는 np.arange가 오른쪽 경계를 포함하지 않기 때문)__\n",
        "- __따라서 `back_position_hold_index_array` 및 `back_position_hold_df`를 사용할 때, 포지션 청산 시점에서의 스프레드는 고려하지 않아도 되므로 편함__"
      ]
    },
    {
      "cell_type": "markdown",
      "metadata": {
        "id": "CeGoRqRo-d8X"
      },
      "source": [
        "__5-1. 비실현수익 계산__"
      ]
    },
    {
      "cell_type": "code",
      "metadata": {
        "id": "I5GDhK__-d8Y",
        "trusted": true,
        "outputId": "a8840003-1765-46c3-eaf0-42c639b39da9"
      },
      "source": [
        "back_position_hold_df.loc[back_buy_time_array,'buy_spread'] = back_position_hold_df.loc[back_buy_time_array,'spread']\n",
        "back_position_hold_df.fillna(method = 'ffill', inplace = True)\n",
        "\n",
        "# 백워데이션 상황에서는 차월물-당월물 spread가 음수일 때 포지션에 노출되므로, (포지션 진입 스프레드 - 포지션 청산 스프레드)의 결과값에 -를 씌워야함\n",
        "# e.g.) 포지션 진입 스프레드: -3.5%, 포지션 청산 스프레드: 1% --> -3.5% - 1% = -4.5%. 수익을 보았는데도 -4.5%로 계산되면 안되므로 결과값에 - 씌우기\n",
        "back_position_hold_df.loc[:,'unrealized_profit'] = -(back_position_hold_df.loc[:,'buy_spread'] - back_position_hold_df.loc[:,'spread']) - trading_fee\n",
        "\n",
        "print(\" \"*12 +\"back_position_hold_df.head(3)\")\n",
        "back_position_hold_df.head(3)"
      ],
      "execution_count": null,
      "outputs": [
        {
          "output_type": "stream",
          "text": [
            "            back_position_hold_df.head(3)\n"
          ],
          "name": "stdout"
        },
        {
          "output_type": "execute_result",
          "data": {
            "text/plain": [
              "                       spread  buy_spread  unrealized_profit\n",
              "2018-06-22 17:00:00 -0.003409   -0.003409          -0.001000\n",
              "2018-06-22 18:00:00 -0.004002   -0.003409          -0.001593\n",
              "2018-06-22 19:00:00 -0.004646   -0.003409          -0.002237"
            ],
            "text/html": [
              "<div>\n",
              "<style scoped>\n",
              "    .dataframe tbody tr th:only-of-type {\n",
              "        vertical-align: middle;\n",
              "    }\n",
              "\n",
              "    .dataframe tbody tr th {\n",
              "        vertical-align: top;\n",
              "    }\n",
              "\n",
              "    .dataframe thead th {\n",
              "        text-align: right;\n",
              "    }\n",
              "</style>\n",
              "<table border=\"1\" class=\"dataframe\">\n",
              "  <thead>\n",
              "    <tr style=\"text-align: right;\">\n",
              "      <th></th>\n",
              "      <th>spread</th>\n",
              "      <th>buy_spread</th>\n",
              "      <th>unrealized_profit</th>\n",
              "    </tr>\n",
              "  </thead>\n",
              "  <tbody>\n",
              "    <tr>\n",
              "      <th>2018-06-22 17:00:00</th>\n",
              "      <td>-0.003409</td>\n",
              "      <td>-0.003409</td>\n",
              "      <td>-0.001000</td>\n",
              "    </tr>\n",
              "    <tr>\n",
              "      <th>2018-06-22 18:00:00</th>\n",
              "      <td>-0.004002</td>\n",
              "      <td>-0.003409</td>\n",
              "      <td>-0.001593</td>\n",
              "    </tr>\n",
              "    <tr>\n",
              "      <th>2018-06-22 19:00:00</th>\n",
              "      <td>-0.004646</td>\n",
              "      <td>-0.003409</td>\n",
              "      <td>-0.002237</td>\n",
              "    </tr>\n",
              "  </tbody>\n",
              "</table>\n",
              "</div>"
            ]
          },
          "metadata": {
            "tags": []
          },
          "execution_count": 80
        }
      ]
    },
    {
      "cell_type": "code",
      "metadata": {
        "id": "L2FEMdIY-d8Z",
        "trusted": true
      },
      "source": [
        "back_unrealized_profit_series = back_position_hold_df.loc[:,'unrealized_profit']"
      ],
      "execution_count": null,
      "outputs": []
    },
    {
      "cell_type": "markdown",
      "metadata": {
        "id": "Q8622bfI-d8a"
      },
      "source": [
        "__5-2. 실현수익 계산__"
      ]
    },
    {
      "cell_type": "code",
      "metadata": {
        "id": "3W8B8CDE-d8a",
        "trusted": true,
        "outputId": "d0741d4b-4340-45ee-9beb-88900d12953b"
      },
      "source": [
        "# buy_sell_df기준: action = 'sell'인 로우에서 (buy_spread - sell_spread)의 차이를 계산할 수 있도록 하나의 row를 shift시킨다.\n",
        "back_buy_sell_df.loc[:,'shifted_spread'] = back_buy_sell_df.loc[:,'spread'].shift(1) \n",
        "\n",
        "# Action = 'buy'인 로우는 수익과 상관없으므로 제거한다\n",
        "back_sell_df = back_buy_sell_df[back_buy_sell_df.loc[:,'action'] == 'sell']  # sell_df의 shifted_spread는 이제 buy_spread를 의미함\n",
        "\n",
        "# realized_profit을 계산한다\n",
        "back_sell_df.loc[:,'realized_profit'] = -(back_sell_df.loc[:,'shifted_spread'] - back_sell_df.loc[:,'spread']) - trading_fee\n",
        "\n",
        "print(\" \"*20+\"back_sell_df.head(3)\")\n",
        "display(back_sell_df.head(3))\n",
        "print(f\"back_sell_df.shape: {back_sell_df.shape}\")"
      ],
      "execution_count": null,
      "outputs": [
        {
          "output_type": "stream",
          "text": [
            "                    back_sell_df.head(3)\n"
          ],
          "name": "stdout"
        },
        {
          "output_type": "display_data",
          "data": {
            "text/plain": [
              "                       spread action  shifted_spread  realized_profit\n",
              "2018-06-28 21:00:00  0.000902   sell       -0.003409         0.003311\n",
              "2018-07-02 01:00:00  0.003498   sell       -0.003333         0.005831\n",
              "2018-09-10 11:00:00  0.000610   sell       -0.005282         0.004892"
            ],
            "text/html": [
              "<div>\n",
              "<style scoped>\n",
              "    .dataframe tbody tr th:only-of-type {\n",
              "        vertical-align: middle;\n",
              "    }\n",
              "\n",
              "    .dataframe tbody tr th {\n",
              "        vertical-align: top;\n",
              "    }\n",
              "\n",
              "    .dataframe thead th {\n",
              "        text-align: right;\n",
              "    }\n",
              "</style>\n",
              "<table border=\"1\" class=\"dataframe\">\n",
              "  <thead>\n",
              "    <tr style=\"text-align: right;\">\n",
              "      <th></th>\n",
              "      <th>spread</th>\n",
              "      <th>action</th>\n",
              "      <th>shifted_spread</th>\n",
              "      <th>realized_profit</th>\n",
              "    </tr>\n",
              "  </thead>\n",
              "  <tbody>\n",
              "    <tr>\n",
              "      <th>2018-06-28 21:00:00</th>\n",
              "      <td>0.000902</td>\n",
              "      <td>sell</td>\n",
              "      <td>-0.003409</td>\n",
              "      <td>0.003311</td>\n",
              "    </tr>\n",
              "    <tr>\n",
              "      <th>2018-07-02 01:00:00</th>\n",
              "      <td>0.003498</td>\n",
              "      <td>sell</td>\n",
              "      <td>-0.003333</td>\n",
              "      <td>0.005831</td>\n",
              "    </tr>\n",
              "    <tr>\n",
              "      <th>2018-09-10 11:00:00</th>\n",
              "      <td>0.000610</td>\n",
              "      <td>sell</td>\n",
              "      <td>-0.005282</td>\n",
              "      <td>0.004892</td>\n",
              "    </tr>\n",
              "  </tbody>\n",
              "</table>\n",
              "</div>"
            ]
          },
          "metadata": {
            "tags": []
          }
        },
        {
          "output_type": "stream",
          "text": [
            "back_sell_df.shape: (5, 4)\n"
          ],
          "name": "stdout"
        }
      ]
    },
    {
      "cell_type": "code",
      "metadata": {
        "id": "DVFHEjRg-d8b",
        "trusted": true
      },
      "source": [
        "back_realized_profit_series = back_sell_df.loc[:,'realized_profit']"
      ],
      "execution_count": null,
      "outputs": []
    },
    {
      "cell_type": "markdown",
      "metadata": {
        "id": "npQHQQV1-d8c"
      },
      "source": [
        "## Step 04. Both Scenarios Considered\n",
        "- __콘탱고, 백워데이션 양쪽 시나리오 모두에서 트레이딩 했을 때의 투자성과 확인__"
      ]
    },
    {
      "cell_type": "markdown",
      "metadata": {
        "id": "UMVF91F6-d8c"
      },
      "source": [
        "__1. Total Profit 계산하기__"
      ]
    },
    {
      "cell_type": "code",
      "metadata": {
        "id": "0Kc4YFgE-d8c",
        "trusted": true,
        "outputId": "e80ac3ed-bde8-4ed5-c009-b163537379e5"
      },
      "source": [
        "# realized_profit\n",
        "realized_profit_series = pd.concat([con_realized_profit_series, back_realized_profit_series])\n",
        "realized_profit_series.sort_index(inplace=True)\n",
        "\n",
        "# unrealized_profit\n",
        "unrealized_profit_series = pd.concat([con_unrealized_profit_series, back_unrealized_profit_series])\n",
        "unrealized_profit_series.sort_index(inplace=True)\n",
        "\n",
        "# 데이터프레임으로 만들기\n",
        "merged_df = pd.DataFrame(data = {'realized':(realized_profit_series+1).cumprod(), 'unrealized': (unrealized_profit_series+1)},\n",
        "                         index = raw_data_df.index)\n",
        "merged_df.head(3)"
      ],
      "execution_count": null,
      "outputs": [
        {
          "output_type": "execute_result",
          "data": {
            "text/plain": [
              "                     realized  unrealized\n",
              "2018-05-29 13:00:00       NaN    0.999000\n",
              "2018-05-29 14:00:00       NaN    1.000825\n",
              "2018-05-29 15:00:00       NaN    0.999367"
            ],
            "text/html": [
              "<div>\n",
              "<style scoped>\n",
              "    .dataframe tbody tr th:only-of-type {\n",
              "        vertical-align: middle;\n",
              "    }\n",
              "\n",
              "    .dataframe tbody tr th {\n",
              "        vertical-align: top;\n",
              "    }\n",
              "\n",
              "    .dataframe thead th {\n",
              "        text-align: right;\n",
              "    }\n",
              "</style>\n",
              "<table border=\"1\" class=\"dataframe\">\n",
              "  <thead>\n",
              "    <tr style=\"text-align: right;\">\n",
              "      <th></th>\n",
              "      <th>realized</th>\n",
              "      <th>unrealized</th>\n",
              "    </tr>\n",
              "  </thead>\n",
              "  <tbody>\n",
              "    <tr>\n",
              "      <th>2018-05-29 13:00:00</th>\n",
              "      <td>NaN</td>\n",
              "      <td>0.999000</td>\n",
              "    </tr>\n",
              "    <tr>\n",
              "      <th>2018-05-29 14:00:00</th>\n",
              "      <td>NaN</td>\n",
              "      <td>1.000825</td>\n",
              "    </tr>\n",
              "    <tr>\n",
              "      <th>2018-05-29 15:00:00</th>\n",
              "      <td>NaN</td>\n",
              "      <td>0.999367</td>\n",
              "    </tr>\n",
              "  </tbody>\n",
              "</table>\n",
              "</div>"
            ]
          },
          "metadata": {
            "tags": []
          },
          "execution_count": 84
        }
      ]
    },
    {
      "cell_type": "code",
      "metadata": {
        "id": "EjNX6qre-d8d",
        "trusted": true,
        "outputId": "6d4523f2-b867-4129-af45-b3f7d11756ab"
      },
      "source": [
        "### Nan 부분 채우기\n",
        "# 1) realized_profit 부분\n",
        "merged_df.loc[:,'realized'].fillna(method='ffill', inplace=True)\n",
        "merged_df.loc[:,'realized'].fillna(1, inplace=True) # 아직도 realized_profit 없는 곳은 거래가 없으므로 포트폴리오 벨류에 변화가 없음\n",
        "\n",
        "# 2) unrealized_profit 부분\n",
        "merged_df.loc[:,'unrealized'].fillna(1, inplace=True) # unrealized_profit에서의 빈 칸은 포지션을 들고 있지 않다는 것을 뜻함 \n",
        "merged_df\n",
        "\n",
        "### total_profit 계산하기\n",
        "merged_df.loc[:,'total'] = merged_df.loc[:,'realized'] * merged_df.loc[:,'unrealized']\n",
        "\n",
        "merged_df.head(3)"
      ],
      "execution_count": null,
      "outputs": [
        {
          "output_type": "execute_result",
          "data": {
            "text/plain": [
              "                     realized  unrealized     total\n",
              "2018-05-29 13:00:00       1.0    0.999000  0.999000\n",
              "2018-05-29 14:00:00       1.0    1.000825  1.000825\n",
              "2018-05-29 15:00:00       1.0    0.999367  0.999367"
            ],
            "text/html": [
              "<div>\n",
              "<style scoped>\n",
              "    .dataframe tbody tr th:only-of-type {\n",
              "        vertical-align: middle;\n",
              "    }\n",
              "\n",
              "    .dataframe tbody tr th {\n",
              "        vertical-align: top;\n",
              "    }\n",
              "\n",
              "    .dataframe thead th {\n",
              "        text-align: right;\n",
              "    }\n",
              "</style>\n",
              "<table border=\"1\" class=\"dataframe\">\n",
              "  <thead>\n",
              "    <tr style=\"text-align: right;\">\n",
              "      <th></th>\n",
              "      <th>realized</th>\n",
              "      <th>unrealized</th>\n",
              "      <th>total</th>\n",
              "    </tr>\n",
              "  </thead>\n",
              "  <tbody>\n",
              "    <tr>\n",
              "      <th>2018-05-29 13:00:00</th>\n",
              "      <td>1.0</td>\n",
              "      <td>0.999000</td>\n",
              "      <td>0.999000</td>\n",
              "    </tr>\n",
              "    <tr>\n",
              "      <th>2018-05-29 14:00:00</th>\n",
              "      <td>1.0</td>\n",
              "      <td>1.000825</td>\n",
              "      <td>1.000825</td>\n",
              "    </tr>\n",
              "    <tr>\n",
              "      <th>2018-05-29 15:00:00</th>\n",
              "      <td>1.0</td>\n",
              "      <td>0.999367</td>\n",
              "      <td>0.999367</td>\n",
              "    </tr>\n",
              "  </tbody>\n",
              "</table>\n",
              "</div>"
            ]
          },
          "metadata": {
            "tags": []
          },
          "execution_count": 85
        }
      ]
    },
    {
      "cell_type": "markdown",
      "metadata": {
        "id": "tMat43J3-d8e"
      },
      "source": [
        "__2. 시각화__"
      ]
    },
    {
      "cell_type": "code",
      "metadata": {
        "id": "zMZLzfu1-d8f",
        "trusted": true,
        "outputId": "40db72ee-4c81-42e1-d00d-21cb5d89d196"
      },
      "source": [
        "plt.figure(figsize=(14,7))\n",
        "plt.plot(merged_df.loc[:,'realized'], linewidth = 3)\n",
        "plt.plot(merged_df.loc[:,'total'], linestyle= '--', linewidth = 2)\n",
        "plt.legend(['realized_profit','total_profit(+unrealized_profit)'])"
      ],
      "execution_count": null,
      "outputs": [
        {
          "output_type": "execute_result",
          "data": {
            "text/plain": [
              "<matplotlib.legend.Legend at 0x1d60e967820>"
            ]
          },
          "metadata": {
            "tags": []
          },
          "execution_count": 86
        },
        {
          "output_type": "display_data",
          "data": {
            "text/plain": [
              "<Figure size 1008x504 with 1 Axes>"
            ],
            "image/png": "[encoded data removed]"
          },
          "metadata": {
            "tags": [],
            "needs_background": "light"
          }
        }
      ]
    },
    {
      "cell_type": "markdown",
      "metadata": {
        "id": "mAui4mVk-d8f"
      },
      "source": [
        "__3.라인 그래프 중 대각선 분석__\n",
        "- 2018년 7월 1일 근처에서 왜 대각선이 보이는지 분석 (다른 곳에서는 다 지면과 수직으로 그래프가 변동하는데 여기서만 대각선 이동이 발생해서 이상함)"
      ]
    },
    {
      "cell_type": "code",
      "metadata": {
        "id": "eoaMFpOp-d8g",
        "trusted": true,
        "outputId": "ea145f9e-46e8-4d87-9b1f-b36c5597df95"
      },
      "source": [
        "merged_df.loc[:,'realized'].iloc[730:750].plot(figsize=(12,7))"
      ],
      "execution_count": null,
      "outputs": [
        {
          "output_type": "execute_result",
          "data": {
            "text/plain": [
              "<AxesSubplot:>"
            ]
          },
          "metadata": {
            "tags": []
          },
          "execution_count": 93
        },
        {
          "output_type": "display_data",
          "data": {
            "text/plain": [
              "<Figure size 864x504 with 1 Axes>"
            ],
            "image/png": "[encoded data removed]"
          },
          "metadata": {
            "tags": [],
            "needs_background": "light"
          }
        }
      ]
    },
    {
      "cell_type": "markdown",
      "metadata": {
        "id": "DUwd7BRN-d8h"
      },
      "source": [
        "- 2018년 6월 29일 ~ 7월 2일 사이에 대각선 그래프 생기는 것 확인. 기초자료(`back_raw_data_df`)에서 그 이유를 파악해보자"
      ]
    },
    {
      "cell_type": "code",
      "metadata": {
        "id": "7T2tubpk-d8i",
        "trusted": true,
        "outputId": "1b482588-5b8c-4dff-b99b-84408ccb84c4"
      },
      "source": [
        "merged_df.loc[:,'realized'].iloc[740:750]"
      ],
      "execution_count": null,
      "outputs": [
        {
          "output_type": "execute_result",
          "data": {
            "text/plain": [
              "2018-06-29 09:00:00    1.006677\n",
              "2018-06-29 10:00:00    1.006677\n",
              "2018-06-29 11:00:00    1.006677\n",
              "2018-06-29 12:00:00    1.006677\n",
              "2018-07-02 01:00:00    1.012547\n",
              "2018-07-02 02:00:00    1.012547\n",
              "2018-07-02 03:00:00    1.012547\n",
              "2018-07-02 04:00:00    1.012547\n",
              "2018-07-02 05:00:00    1.012547\n",
              "2018-07-02 06:00:00    1.012547\n",
              "Name: realized, dtype: float64"
            ]
          },
          "metadata": {
            "tags": []
          },
          "execution_count": 92
        }
      ]
    },
    {
      "cell_type": "markdown",
      "metadata": {
        "id": "O2o2Xkku-d8j"
      },
      "source": [
        "- 6월 29일에서 바로 7월 2일로 넘어가기 때문임을 확인. 왜 6월 30일, 7월 1일 자료가 없는 걸까?\n",
        "- 가장 기초 자료인 `raw_data_df` 확인"
      ]
    },
    {
      "cell_type": "code",
      "metadata": {
        "id": "0qadRDXb-d8m",
        "trusted": true,
        "outputId": "14c6e580-c2c2-4297-819e-015d1c16d1f6"
      },
      "source": [
        "raw_data_df.loc[datetime(2018,6,29,11):datetime(2018,7,2,2),:]"
      ],
      "execution_count": null,
      "outputs": [
        {
          "output_type": "execute_result",
          "data": {
            "text/plain": [
              "                       spread\n",
              "2018-06-29 11:00:00 -0.003569\n",
              "2018-06-29 12:00:00 -0.001259\n",
              "2018-07-02 01:00:00  0.003498\n",
              "2018-07-02 02:00:00  0.003908"
            ],
            "text/html": [
              "<div>\n",
              "<style scoped>\n",
              "    .dataframe tbody tr th:only-of-type {\n",
              "        vertical-align: middle;\n",
              "    }\n",
              "\n",
              "    .dataframe tbody tr th {\n",
              "        vertical-align: top;\n",
              "    }\n",
              "\n",
              "    .dataframe thead th {\n",
              "        text-align: right;\n",
              "    }\n",
              "</style>\n",
              "<table border=\"1\" class=\"dataframe\">\n",
              "  <thead>\n",
              "    <tr style=\"text-align: right;\">\n",
              "      <th></th>\n",
              "      <th>spread</th>\n",
              "    </tr>\n",
              "  </thead>\n",
              "  <tbody>\n",
              "    <tr>\n",
              "      <th>2018-06-29 11:00:00</th>\n",
              "      <td>-0.003569</td>\n",
              "    </tr>\n",
              "    <tr>\n",
              "      <th>2018-06-29 12:00:00</th>\n",
              "      <td>-0.001259</td>\n",
              "    </tr>\n",
              "    <tr>\n",
              "      <th>2018-07-02 01:00:00</th>\n",
              "      <td>0.003498</td>\n",
              "    </tr>\n",
              "    <tr>\n",
              "      <th>2018-07-02 02:00:00</th>\n",
              "      <td>0.003908</td>\n",
              "    </tr>\n",
              "  </tbody>\n",
              "</table>\n",
              "</div>"
            ]
          },
          "metadata": {
            "tags": []
          },
          "execution_count": 91
        }
      ]
    },
    {
      "cell_type": "markdown",
      "metadata": {
        "id": "IWS9Q8Zx-d8n"
      },
      "source": [
        "- 원래 기초자료에서도 중간 자료가 비어있음을 확인. 코딩에는 문제 없음"
      ]
    }
  ]
}